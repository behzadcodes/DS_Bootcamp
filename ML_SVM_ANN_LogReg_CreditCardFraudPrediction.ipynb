{
 "cells": [
  {
   "cell_type": "markdown",
   "metadata": {},
   "source": [
    "# Machine Learning model for Credit Card Fraud Detection\n",
    "\n",
    "Training a prediction model to detect credit card fraud based on ~284000 dataset, using:\n",
    "1. Logistic Regression model\n",
    "2. Support Vector Machines (SVM) model\n",
    "3. Neural Network Deep Learning model\n",
    "\n",
    "\n",
    "Data from Kaggle: https://www.kaggle.com/mlg-ulb/creditcardfraud\n",
    "\n",
    "* Content (copied from Kaggle data page)\n",
    "\n",
    "The datasets contains transactions made by credit cards in September 2013 by european cardholders.\n",
    "This dataset presents transactions that occurred in two days, where we have 492 frauds out of 284,807 transactions. The dataset is highly unbalanced, the positive class (frauds) account for 0.172% of all transactions.\n",
    "\n",
    "It contains only numerical input variables which are the result of a PCA transformation. Unfortunately, due to confidentiality issues, we cannot provide the original features and more background information about the data. Features V1, V2, … V28 are the principal components obtained with PCA, the only features which have not been transformed with PCA are 'Time' and 'Amount'. Feature 'Time' contains the seconds elapsed between each transaction and the first transaction in the dataset. The feature 'Amount' is the transaction Amount, this feature can be used for example-dependant cost-senstive learning. Feature 'Class' is the response variable and it takes value 1 in case of fraud and 0 otherwise.\n",
    "\n"
   ]
  },
  {
   "cell_type": "code",
   "execution_count": 1,
   "metadata": {},
   "outputs": [],
   "source": [
    "import pandas as pd\n",
    "import numpy as np\n",
    "import matplotlib.pyplot as plt\n",
    "import seaborn as sns\n",
    "\n",
    "%matplotlib inline\n",
    "sns.set_style('darkgrid')"
   ]
  },
  {
   "cell_type": "code",
   "execution_count": 2,
   "metadata": {},
   "outputs": [],
   "source": [
    "import tensorflow as tf\n",
    "from tensorflow.keras.models import Sequential # Keras API is packaged inside Tensorflow\n",
    "from tensorflow.keras.layers import Dense, Dropout\n",
    "from tensorflow.keras.callbacks import EarlyStopping"
   ]
  },
  {
   "cell_type": "code",
   "execution_count": 3,
   "metadata": {},
   "outputs": [],
   "source": [
    "from sklearn.model_selection import train_test_split\n",
    "from sklearn.preprocessing import MinMaxScaler\n",
    "from sklearn.metrics import mean_absolute_error, mean_squared_error, explained_variance_score\n",
    "from sklearn.metrics import classification_report, confusion_matrix"
   ]
  },
  {
   "cell_type": "code",
   "execution_count": 4,
   "metadata": {},
   "outputs": [],
   "source": [
    "df = pd.read_csv('creditcard.csv')"
   ]
  },
  {
   "cell_type": "code",
   "execution_count": 5,
   "metadata": {},
   "outputs": [
    {
     "data": {
      "text/html": [
       "<div>\n",
       "<style scoped>\n",
       "    .dataframe tbody tr th:only-of-type {\n",
       "        vertical-align: middle;\n",
       "    }\n",
       "\n",
       "    .dataframe tbody tr th {\n",
       "        vertical-align: top;\n",
       "    }\n",
       "\n",
       "    .dataframe thead th {\n",
       "        text-align: right;\n",
       "    }\n",
       "</style>\n",
       "<table border=\"1\" class=\"dataframe\">\n",
       "  <thead>\n",
       "    <tr style=\"text-align: right;\">\n",
       "      <th></th>\n",
       "      <th>Time</th>\n",
       "      <th>V1</th>\n",
       "      <th>V2</th>\n",
       "      <th>V3</th>\n",
       "      <th>V4</th>\n",
       "      <th>V5</th>\n",
       "      <th>V6</th>\n",
       "      <th>V7</th>\n",
       "      <th>V8</th>\n",
       "      <th>V9</th>\n",
       "      <th>...</th>\n",
       "      <th>V21</th>\n",
       "      <th>V22</th>\n",
       "      <th>V23</th>\n",
       "      <th>V24</th>\n",
       "      <th>V25</th>\n",
       "      <th>V26</th>\n",
       "      <th>V27</th>\n",
       "      <th>V28</th>\n",
       "      <th>Amount</th>\n",
       "      <th>Class</th>\n",
       "    </tr>\n",
       "  </thead>\n",
       "  <tbody>\n",
       "    <tr>\n",
       "      <th>0</th>\n",
       "      <td>0.0</td>\n",
       "      <td>-1.359807</td>\n",
       "      <td>-0.072781</td>\n",
       "      <td>2.536347</td>\n",
       "      <td>1.378155</td>\n",
       "      <td>-0.338321</td>\n",
       "      <td>0.462388</td>\n",
       "      <td>0.239599</td>\n",
       "      <td>0.098698</td>\n",
       "      <td>0.363787</td>\n",
       "      <td>...</td>\n",
       "      <td>-0.018307</td>\n",
       "      <td>0.277838</td>\n",
       "      <td>-0.110474</td>\n",
       "      <td>0.066928</td>\n",
       "      <td>0.128539</td>\n",
       "      <td>-0.189115</td>\n",
       "      <td>0.133558</td>\n",
       "      <td>-0.021053</td>\n",
       "      <td>149.62</td>\n",
       "      <td>0</td>\n",
       "    </tr>\n",
       "    <tr>\n",
       "      <th>1</th>\n",
       "      <td>0.0</td>\n",
       "      <td>1.191857</td>\n",
       "      <td>0.266151</td>\n",
       "      <td>0.166480</td>\n",
       "      <td>0.448154</td>\n",
       "      <td>0.060018</td>\n",
       "      <td>-0.082361</td>\n",
       "      <td>-0.078803</td>\n",
       "      <td>0.085102</td>\n",
       "      <td>-0.255425</td>\n",
       "      <td>...</td>\n",
       "      <td>-0.225775</td>\n",
       "      <td>-0.638672</td>\n",
       "      <td>0.101288</td>\n",
       "      <td>-0.339846</td>\n",
       "      <td>0.167170</td>\n",
       "      <td>0.125895</td>\n",
       "      <td>-0.008983</td>\n",
       "      <td>0.014724</td>\n",
       "      <td>2.69</td>\n",
       "      <td>0</td>\n",
       "    </tr>\n",
       "    <tr>\n",
       "      <th>2</th>\n",
       "      <td>1.0</td>\n",
       "      <td>-1.358354</td>\n",
       "      <td>-1.340163</td>\n",
       "      <td>1.773209</td>\n",
       "      <td>0.379780</td>\n",
       "      <td>-0.503198</td>\n",
       "      <td>1.800499</td>\n",
       "      <td>0.791461</td>\n",
       "      <td>0.247676</td>\n",
       "      <td>-1.514654</td>\n",
       "      <td>...</td>\n",
       "      <td>0.247998</td>\n",
       "      <td>0.771679</td>\n",
       "      <td>0.909412</td>\n",
       "      <td>-0.689281</td>\n",
       "      <td>-0.327642</td>\n",
       "      <td>-0.139097</td>\n",
       "      <td>-0.055353</td>\n",
       "      <td>-0.059752</td>\n",
       "      <td>378.66</td>\n",
       "      <td>0</td>\n",
       "    </tr>\n",
       "    <tr>\n",
       "      <th>3</th>\n",
       "      <td>1.0</td>\n",
       "      <td>-0.966272</td>\n",
       "      <td>-0.185226</td>\n",
       "      <td>1.792993</td>\n",
       "      <td>-0.863291</td>\n",
       "      <td>-0.010309</td>\n",
       "      <td>1.247203</td>\n",
       "      <td>0.237609</td>\n",
       "      <td>0.377436</td>\n",
       "      <td>-1.387024</td>\n",
       "      <td>...</td>\n",
       "      <td>-0.108300</td>\n",
       "      <td>0.005274</td>\n",
       "      <td>-0.190321</td>\n",
       "      <td>-1.175575</td>\n",
       "      <td>0.647376</td>\n",
       "      <td>-0.221929</td>\n",
       "      <td>0.062723</td>\n",
       "      <td>0.061458</td>\n",
       "      <td>123.50</td>\n",
       "      <td>0</td>\n",
       "    </tr>\n",
       "    <tr>\n",
       "      <th>4</th>\n",
       "      <td>2.0</td>\n",
       "      <td>-1.158233</td>\n",
       "      <td>0.877737</td>\n",
       "      <td>1.548718</td>\n",
       "      <td>0.403034</td>\n",
       "      <td>-0.407193</td>\n",
       "      <td>0.095921</td>\n",
       "      <td>0.592941</td>\n",
       "      <td>-0.270533</td>\n",
       "      <td>0.817739</td>\n",
       "      <td>...</td>\n",
       "      <td>-0.009431</td>\n",
       "      <td>0.798278</td>\n",
       "      <td>-0.137458</td>\n",
       "      <td>0.141267</td>\n",
       "      <td>-0.206010</td>\n",
       "      <td>0.502292</td>\n",
       "      <td>0.219422</td>\n",
       "      <td>0.215153</td>\n",
       "      <td>69.99</td>\n",
       "      <td>0</td>\n",
       "    </tr>\n",
       "  </tbody>\n",
       "</table>\n",
       "<p>5 rows × 31 columns</p>\n",
       "</div>"
      ],
      "text/plain": [
       "   Time        V1        V2        V3        V4        V5        V6        V7  \\\n",
       "0   0.0 -1.359807 -0.072781  2.536347  1.378155 -0.338321  0.462388  0.239599   \n",
       "1   0.0  1.191857  0.266151  0.166480  0.448154  0.060018 -0.082361 -0.078803   \n",
       "2   1.0 -1.358354 -1.340163  1.773209  0.379780 -0.503198  1.800499  0.791461   \n",
       "3   1.0 -0.966272 -0.185226  1.792993 -0.863291 -0.010309  1.247203  0.237609   \n",
       "4   2.0 -1.158233  0.877737  1.548718  0.403034 -0.407193  0.095921  0.592941   \n",
       "\n",
       "         V8        V9  ...       V21       V22       V23       V24       V25  \\\n",
       "0  0.098698  0.363787  ... -0.018307  0.277838 -0.110474  0.066928  0.128539   \n",
       "1  0.085102 -0.255425  ... -0.225775 -0.638672  0.101288 -0.339846  0.167170   \n",
       "2  0.247676 -1.514654  ...  0.247998  0.771679  0.909412 -0.689281 -0.327642   \n",
       "3  0.377436 -1.387024  ... -0.108300  0.005274 -0.190321 -1.175575  0.647376   \n",
       "4 -0.270533  0.817739  ... -0.009431  0.798278 -0.137458  0.141267 -0.206010   \n",
       "\n",
       "        V26       V27       V28  Amount  Class  \n",
       "0 -0.189115  0.133558 -0.021053  149.62      0  \n",
       "1  0.125895 -0.008983  0.014724    2.69      0  \n",
       "2 -0.139097 -0.055353 -0.059752  378.66      0  \n",
       "3 -0.221929  0.062723  0.061458  123.50      0  \n",
       "4  0.502292  0.219422  0.215153   69.99      0  \n",
       "\n",
       "[5 rows x 31 columns]"
      ]
     },
     "execution_count": 5,
     "metadata": {},
     "output_type": "execute_result"
    }
   ],
   "source": [
    "df.head()"
   ]
  },
  {
   "cell_type": "code",
   "execution_count": 6,
   "metadata": {
    "scrolled": true
   },
   "outputs": [
    {
     "name": "stdout",
     "output_type": "stream",
     "text": [
      "<class 'pandas.core.frame.DataFrame'>\n",
      "RangeIndex: 284807 entries, 0 to 284806\n",
      "Data columns (total 31 columns):\n",
      " #   Column  Non-Null Count   Dtype  \n",
      "---  ------  --------------   -----  \n",
      " 0   Time    284807 non-null  float64\n",
      " 1   V1      284807 non-null  float64\n",
      " 2   V2      284807 non-null  float64\n",
      " 3   V3      284807 non-null  float64\n",
      " 4   V4      284807 non-null  float64\n",
      " 5   V5      284807 non-null  float64\n",
      " 6   V6      284807 non-null  float64\n",
      " 7   V7      284807 non-null  float64\n",
      " 8   V8      284807 non-null  float64\n",
      " 9   V9      284807 non-null  float64\n",
      " 10  V10     284807 non-null  float64\n",
      " 11  V11     284807 non-null  float64\n",
      " 12  V12     284807 non-null  float64\n",
      " 13  V13     284807 non-null  float64\n",
      " 14  V14     284807 non-null  float64\n",
      " 15  V15     284807 non-null  float64\n",
      " 16  V16     284807 non-null  float64\n",
      " 17  V17     284807 non-null  float64\n",
      " 18  V18     284807 non-null  float64\n",
      " 19  V19     284807 non-null  float64\n",
      " 20  V20     284807 non-null  float64\n",
      " 21  V21     284807 non-null  float64\n",
      " 22  V22     284807 non-null  float64\n",
      " 23  V23     284807 non-null  float64\n",
      " 24  V24     284807 non-null  float64\n",
      " 25  V25     284807 non-null  float64\n",
      " 26  V26     284807 non-null  float64\n",
      " 27  V27     284807 non-null  float64\n",
      " 28  V28     284807 non-null  float64\n",
      " 29  Amount  284807 non-null  float64\n",
      " 30  Class   284807 non-null  int64  \n",
      "dtypes: float64(30), int64(1)\n",
      "memory usage: 67.4 MB\n"
     ]
    }
   ],
   "source": [
    "df.info()"
   ]
  },
  {
   "cell_type": "code",
   "execution_count": 7,
   "metadata": {
    "scrolled": true
   },
   "outputs": [
    {
     "data": {
      "text/plain": [
       "0    284315\n",
       "1       492\n",
       "Name: Class, dtype: int64"
      ]
     },
     "execution_count": 7,
     "metadata": {},
     "output_type": "execute_result"
    }
   ],
   "source": [
    "df['Class'].value_counts()"
   ]
  },
  {
   "cell_type": "code",
   "execution_count": 8,
   "metadata": {},
   "outputs": [],
   "source": [
    "df.drop('Time',axis=1, inplace=True)"
   ]
  },
  {
   "cell_type": "code",
   "execution_count": 9,
   "metadata": {},
   "outputs": [
    {
     "data": {
      "text/plain": [
       "<matplotlib.axes._subplots.AxesSubplot at 0x28dcd104348>"
      ]
     },
     "execution_count": 9,
     "metadata": {},
     "output_type": "execute_result"
    },
    {
     "data": {
      "image/png": "[encoded data removed]",
      "text/plain": [
       "<Figure size 864x576 with 1 Axes>"
      ]
     },
     "metadata": {},
     "output_type": "display_data"
    }
   ],
   "source": [
    "plt.figure(figsize=(12,8))\n",
    "plt.title('Correlation of features with the Class output', fontsize=18)\n",
    "df.corr()['Class'][:-1].plot(kind='bar')"
   ]
  },
  {
   "cell_type": "markdown",
   "metadata": {},
   "source": [
    "# Spliting Train/Test Data"
   ]
  },
  {
   "cell_type": "code",
   "execution_count": 10,
   "metadata": {},
   "outputs": [],
   "source": [
    "X = df.drop('Class', axis=1).values\n",
    "y = df['Class'].values"
   ]
  },
  {
   "cell_type": "code",
   "execution_count": 11,
   "metadata": {},
   "outputs": [],
   "source": [
    "X_train, X_test, y_train, y_test = train_test_split(X, y, test_size=0.3, random_state=101)"
   ]
  },
  {
   "cell_type": "code",
   "execution_count": 12,
   "metadata": {},
   "outputs": [
    {
     "data": {
      "text/plain": [
       "(199364, 29)"
      ]
     },
     "execution_count": 12,
     "metadata": {},
     "output_type": "execute_result"
    }
   ],
   "source": [
    "X_train.shape"
   ]
  },
  {
   "cell_type": "code",
   "execution_count": 13,
   "metadata": {},
   "outputs": [],
   "source": [
    "scaler = MinMaxScaler()\n",
    "X_train = scaler.fit_transform(X_train) # Fit based on X_train and transform X_train using that scale in one step\n",
    "X_test = scaler.transform(X_test)"
   ]
  },
  {
   "cell_type": "code",
   "execution_count": null,
   "metadata": {},
   "outputs": [],
   "source": []
  },
  {
   "cell_type": "markdown",
   "metadata": {},
   "source": [
    "# Training a Logistic Regression Model"
   ]
  },
  {
   "cell_type": "code",
   "execution_count": 14,
   "metadata": {},
   "outputs": [],
   "source": [
    "from sklearn.linear_model import LogisticRegression"
   ]
  },
  {
   "cell_type": "code",
   "execution_count": 15,
   "metadata": {},
   "outputs": [
    {
     "data": {
      "text/plain": [
       "LogisticRegression(C=1.0, class_weight=None, dual=False, fit_intercept=True,\n",
       "                   intercept_scaling=1, l1_ratio=None, max_iter=100,\n",
       "                   multi_class='auto', n_jobs=None, penalty='l2',\n",
       "                   random_state=None, solver='lbfgs', tol=0.0001, verbose=0,\n",
       "                   warm_start=False)"
      ]
     },
     "execution_count": 15,
     "metadata": {},
     "output_type": "execute_result"
    }
   ],
   "source": [
    "logmodel = LogisticRegression()\n",
    "\n",
    "logmodel.fit(X_train, y_train)"
   ]
  },
  {
   "cell_type": "code",
   "execution_count": 16,
   "metadata": {},
   "outputs": [],
   "source": [
    "predictions_log = logmodel.predict(X_test)"
   ]
  },
  {
   "cell_type": "code",
   "execution_count": 17,
   "metadata": {
    "scrolled": true
   },
   "outputs": [
    {
     "name": "stdout",
     "output_type": "stream",
     "text": [
      "              precision    recall  f1-score   support\n",
      "\n",
      "           0       1.00      1.00      1.00     85299\n",
      "           1       0.88      0.54      0.67       144\n",
      "\n",
      "    accuracy                           1.00     85443\n",
      "   macro avg       0.94      0.77      0.83     85443\n",
      "weighted avg       1.00      1.00      1.00     85443\n",
      "\n"
     ]
    }
   ],
   "source": [
    "print(classification_report(y_test, predictions_log))"
   ]
  },
  {
   "cell_type": "code",
   "execution_count": 18,
   "metadata": {
    "scrolled": true
   },
   "outputs": [
    {
     "name": "stdout",
     "output_type": "stream",
     "text": [
      "[[85288    11]\n",
      " [   66    78]]\n"
     ]
    }
   ],
   "source": [
    "print(confusion_matrix(y_test, predictions_log)) # Confusion Matrix ([[tn, fp], [fn, tp]])"
   ]
  },
  {
   "cell_type": "code",
   "execution_count": null,
   "metadata": {},
   "outputs": [],
   "source": []
  },
  {
   "cell_type": "markdown",
   "metadata": {},
   "source": [
    "# Training a Support Vector Machines (SVM) Model"
   ]
  },
  {
   "cell_type": "code",
   "execution_count": 19,
   "metadata": {},
   "outputs": [],
   "source": [
    "from sklearn.svm import SVC\n",
    "from sklearn.model_selection import GridSearchCV"
   ]
  },
  {
   "cell_type": "code",
   "execution_count": 20,
   "metadata": {},
   "outputs": [],
   "source": [
    "# Creating a sample data, with 10% the size of the training dataset, to be used for cross validation\n",
    "# We only use a sample from train dataset to avoid test data leackage\n",
    "df_s = pd.concat([pd.DataFrame(X_train),pd.DataFrame(y_train)],axis=1)\n",
    "df_s = df_s.sample(frac=0.1,random_state=101) \n",
    "\n",
    "X_s = df_s.iloc[:,0:-1].values\n",
    "y_s = df_s.iloc[:,-1].values\n",
    "X_train_s, X_test_s, y_train_s, y_test_s = train_test_split(X_s, y_s, test_size=0.1, random_state=101)\n",
    "\n",
    "X_train_s = scaler.transform(X_train_s)"
   ]
  },
  {
   "cell_type": "code",
   "execution_count": 21,
   "metadata": {},
   "outputs": [],
   "source": [
    "pars={'C':[1,2,5,10,20,50,100], 'gamma':[0.1,0.05,0.01,0.005,0.001,0.0005,0.0001]}"
   ]
  },
  {
   "cell_type": "code",
   "execution_count": 22,
   "metadata": {},
   "outputs": [],
   "source": [
    "grid = GridSearchCV(SVC(), pars, verbose=3)"
   ]
  },
  {
   "cell_type": "code",
   "execution_count": 23,
   "metadata": {
    "scrolled": true
   },
   "outputs": [
    {
     "name": "stdout",
     "output_type": "stream",
     "text": [
      "Fitting 5 folds for each of 49 candidates, totalling 245 fits\n",
      "[CV] C=1, gamma=0.1 ..................................................\n",
      "[CV] ...................... C=1, gamma=0.1, score=0.998, total=   0.1s\n",
      "[CV] C=1, gamma=0.1 ..................................................\n",
      "[CV] ...................... C=1, gamma=0.1, score=0.998, total=   0.1s\n",
      "[CV] C=1, gamma=0.1 ..................................................\n"
     ]
    },
    {
     "name": "stderr",
     "output_type": "stream",
     "text": [
      "[Parallel(n_jobs=1)]: Using backend SequentialBackend with 1 concurrent workers.\n",
      "[Parallel(n_jobs=1)]: Done   1 out of   1 | elapsed:    0.0s remaining:    0.0s\n",
      "[Parallel(n_jobs=1)]: Done   2 out of   2 | elapsed:    0.0s remaining:    0.0s\n"
     ]
    },
    {
     "name": "stdout",
     "output_type": "stream",
     "text": [
      "[CV] ...................... C=1, gamma=0.1, score=0.998, total=   0.1s\n",
      "[CV] C=1, gamma=0.1 ..................................................\n",
      "[CV] ...................... C=1, gamma=0.1, score=0.998, total=   0.1s\n",
      "[CV] C=1, gamma=0.1 ..................................................\n",
      "[CV] ...................... C=1, gamma=0.1, score=0.998, total=   0.1s\n",
      "[CV] C=1, gamma=0.05 .................................................\n",
      "[CV] ..................... C=1, gamma=0.05, score=0.998, total=   0.1s\n",
      "[CV] C=1, gamma=0.05 .................................................\n",
      "[CV] ..................... C=1, gamma=0.05, score=0.998, total=   0.1s\n",
      "[CV] C=1, gamma=0.05 .................................................\n",
      "[CV] ..................... C=1, gamma=0.05, score=0.998, total=   0.1s\n",
      "[CV] C=1, gamma=0.05 .................................................\n",
      "[CV] ..................... C=1, gamma=0.05, score=0.998, total=   0.1s\n",
      "[CV] C=1, gamma=0.05 .................................................\n",
      "[CV] ..................... C=1, gamma=0.05, score=0.998, total=   0.1s\n",
      "[CV] C=1, gamma=0.01 .................................................\n",
      "[CV] ..................... C=1, gamma=0.01, score=0.998, total=   0.1s\n",
      "[CV] C=1, gamma=0.01 .................................................\n",
      "[CV] ..................... C=1, gamma=0.01, score=0.998, total=   0.1s\n",
      "[CV] C=1, gamma=0.01 .................................................\n",
      "[CV] ..................... C=1, gamma=0.01, score=0.998, total=   0.1s\n",
      "[CV] C=1, gamma=0.01 .................................................\n",
      "[CV] ..................... C=1, gamma=0.01, score=0.998, total=   0.1s\n",
      "[CV] C=1, gamma=0.01 .................................................\n",
      "[CV] ..................... C=1, gamma=0.01, score=0.998, total=   0.1s\n",
      "[CV] C=1, gamma=0.005 ................................................\n",
      "[CV] .................... C=1, gamma=0.005, score=0.998, total=   0.1s\n",
      "[CV] C=1, gamma=0.005 ................................................\n",
      "[CV] .................... C=1, gamma=0.005, score=0.998, total=   0.1s\n",
      "[CV] C=1, gamma=0.005 ................................................\n",
      "[CV] .................... C=1, gamma=0.005, score=0.998, total=   0.1s\n",
      "[CV] C=1, gamma=0.005 ................................................\n",
      "[CV] .................... C=1, gamma=0.005, score=0.998, total=   0.1s\n",
      "[CV] C=1, gamma=0.005 ................................................\n",
      "[CV] .................... C=1, gamma=0.005, score=0.998, total=   0.1s\n",
      "[CV] C=1, gamma=0.001 ................................................\n",
      "[CV] .................... C=1, gamma=0.001, score=0.998, total=   0.1s\n",
      "[CV] C=1, gamma=0.001 ................................................\n",
      "[CV] .................... C=1, gamma=0.001, score=0.998, total=   0.1s\n",
      "[CV] C=1, gamma=0.001 ................................................\n",
      "[CV] .................... C=1, gamma=0.001, score=0.998, total=   0.1s\n",
      "[CV] C=1, gamma=0.001 ................................................\n",
      "[CV] .................... C=1, gamma=0.001, score=0.998, total=   0.1s\n",
      "[CV] C=1, gamma=0.001 ................................................\n",
      "[CV] .................... C=1, gamma=0.001, score=0.998, total=   0.1s\n",
      "[CV] C=1, gamma=0.0005 ...............................................\n",
      "[CV] ................... C=1, gamma=0.0005, score=0.998, total=   0.1s\n",
      "[CV] C=1, gamma=0.0005 ...............................................\n",
      "[CV] ................... C=1, gamma=0.0005, score=0.998, total=   0.1s\n",
      "[CV] C=1, gamma=0.0005 ...............................................\n",
      "[CV] ................... C=1, gamma=0.0005, score=0.998, total=   0.1s\n",
      "[CV] C=1, gamma=0.0005 ...............................................\n",
      "[CV] ................... C=1, gamma=0.0005, score=0.998, total=   0.1s\n",
      "[CV] C=1, gamma=0.0005 ...............................................\n",
      "[CV] ................... C=1, gamma=0.0005, score=0.998, total=   0.1s\n",
      "[CV] C=1, gamma=0.0001 ...............................................\n",
      "[CV] ................... C=1, gamma=0.0001, score=0.998, total=   0.1s\n",
      "[CV] C=1, gamma=0.0001 ...............................................\n",
      "[CV] ................... C=1, gamma=0.0001, score=0.998, total=   0.1s\n",
      "[CV] C=1, gamma=0.0001 ...............................................\n",
      "[CV] ................... C=1, gamma=0.0001, score=0.998, total=   0.1s\n",
      "[CV] C=1, gamma=0.0001 ...............................................\n",
      "[CV] ................... C=1, gamma=0.0001, score=0.998, total=   0.1s\n",
      "[CV] C=1, gamma=0.0001 ...............................................\n",
      "[CV] ................... C=1, gamma=0.0001, score=0.998, total=   0.1s\n",
      "[CV] C=2, gamma=0.1 ..................................................\n",
      "[CV] ...................... C=2, gamma=0.1, score=0.998, total=   0.1s\n",
      "[CV] C=2, gamma=0.1 ..................................................\n",
      "[CV] ...................... C=2, gamma=0.1, score=0.998, total=   0.1s\n",
      "[CV] C=2, gamma=0.1 ..................................................\n",
      "[CV] ...................... C=2, gamma=0.1, score=0.998, total=   0.1s\n",
      "[CV] C=2, gamma=0.1 ..................................................\n",
      "[CV] ...................... C=2, gamma=0.1, score=0.998, total=   0.1s\n",
      "[CV] C=2, gamma=0.1 ..................................................\n",
      "[CV] ...................... C=2, gamma=0.1, score=0.998, total=   0.1s\n",
      "[CV] C=2, gamma=0.05 .................................................\n",
      "[CV] ..................... C=2, gamma=0.05, score=0.998, total=   0.1s\n",
      "[CV] C=2, gamma=0.05 .................................................\n",
      "[CV] ..................... C=2, gamma=0.05, score=0.998, total=   0.1s\n",
      "[CV] C=2, gamma=0.05 .................................................\n",
      "[CV] ..................... C=2, gamma=0.05, score=0.998, total=   0.1s\n",
      "[CV] C=2, gamma=0.05 .................................................\n",
      "[CV] ..................... C=2, gamma=0.05, score=0.998, total=   0.1s\n",
      "[CV] C=2, gamma=0.05 .................................................\n",
      "[CV] ..................... C=2, gamma=0.05, score=0.998, total=   0.1s\n",
      "[CV] C=2, gamma=0.01 .................................................\n",
      "[CV] ..................... C=2, gamma=0.01, score=0.998, total=   0.1s\n",
      "[CV] C=2, gamma=0.01 .................................................\n",
      "[CV] ..................... C=2, gamma=0.01, score=0.998, total=   0.1s\n",
      "[CV] C=2, gamma=0.01 .................................................\n",
      "[CV] ..................... C=2, gamma=0.01, score=0.998, total=   0.1s\n",
      "[CV] C=2, gamma=0.01 .................................................\n",
      "[CV] ..................... C=2, gamma=0.01, score=0.998, total=   0.1s\n",
      "[CV] C=2, gamma=0.01 .................................................\n",
      "[CV] ..................... C=2, gamma=0.01, score=0.998, total=   0.1s\n",
      "[CV] C=2, gamma=0.005 ................................................\n",
      "[CV] .................... C=2, gamma=0.005, score=0.998, total=   0.1s\n",
      "[CV] C=2, gamma=0.005 ................................................\n",
      "[CV] .................... C=2, gamma=0.005, score=0.998, total=   0.1s\n",
      "[CV] C=2, gamma=0.005 ................................................\n",
      "[CV] .................... C=2, gamma=0.005, score=0.998, total=   0.1s\n",
      "[CV] C=2, gamma=0.005 ................................................\n",
      "[CV] .................... C=2, gamma=0.005, score=0.998, total=   0.1s\n",
      "[CV] C=2, gamma=0.005 ................................................\n",
      "[CV] .................... C=2, gamma=0.005, score=0.998, total=   0.1s\n",
      "[CV] C=2, gamma=0.001 ................................................\n",
      "[CV] .................... C=2, gamma=0.001, score=0.998, total=   0.1s\n",
      "[CV] C=2, gamma=0.001 ................................................\n",
      "[CV] .................... C=2, gamma=0.001, score=0.998, total=   0.1s\n",
      "[CV] C=2, gamma=0.001 ................................................\n",
      "[CV] .................... C=2, gamma=0.001, score=0.998, total=   0.1s\n",
      "[CV] C=2, gamma=0.001 ................................................\n",
      "[CV] .................... C=2, gamma=0.001, score=0.998, total=   0.1s\n",
      "[CV] C=2, gamma=0.001 ................................................\n",
      "[CV] .................... C=2, gamma=0.001, score=0.998, total=   0.1s\n",
      "[CV] C=2, gamma=0.0005 ...............................................\n",
      "[CV] ................... C=2, gamma=0.0005, score=0.998, total=   0.1s\n",
      "[CV] C=2, gamma=0.0005 ...............................................\n",
      "[CV] ................... C=2, gamma=0.0005, score=0.998, total=   0.1s\n",
      "[CV] C=2, gamma=0.0005 ...............................................\n"
     ]
    },
    {
     "name": "stdout",
     "output_type": "stream",
     "text": [
      "[CV] ................... C=2, gamma=0.0005, score=0.998, total=   0.1s\n",
      "[CV] C=2, gamma=0.0005 ...............................................\n",
      "[CV] ................... C=2, gamma=0.0005, score=0.998, total=   0.1s\n",
      "[CV] C=2, gamma=0.0005 ...............................................\n",
      "[CV] ................... C=2, gamma=0.0005, score=0.998, total=   0.1s\n",
      "[CV] C=2, gamma=0.0001 ...............................................\n",
      "[CV] ................... C=2, gamma=0.0001, score=0.998, total=   0.1s\n",
      "[CV] C=2, gamma=0.0001 ...............................................\n",
      "[CV] ................... C=2, gamma=0.0001, score=0.998, total=   0.1s\n",
      "[CV] C=2, gamma=0.0001 ...............................................\n",
      "[CV] ................... C=2, gamma=0.0001, score=0.998, total=   0.1s\n",
      "[CV] C=2, gamma=0.0001 ...............................................\n",
      "[CV] ................... C=2, gamma=0.0001, score=0.998, total=   0.1s\n",
      "[CV] C=2, gamma=0.0001 ...............................................\n",
      "[CV] ................... C=2, gamma=0.0001, score=0.998, total=   0.1s\n",
      "[CV] C=5, gamma=0.1 ..................................................\n",
      "[CV] ...................... C=5, gamma=0.1, score=0.998, total=   0.1s\n",
      "[CV] C=5, gamma=0.1 ..................................................\n",
      "[CV] ...................... C=5, gamma=0.1, score=0.998, total=   0.1s\n",
      "[CV] C=5, gamma=0.1 ..................................................\n",
      "[CV] ...................... C=5, gamma=0.1, score=0.998, total=   0.1s\n",
      "[CV] C=5, gamma=0.1 ..................................................\n",
      "[CV] ...................... C=5, gamma=0.1, score=0.998, total=   0.1s\n",
      "[CV] C=5, gamma=0.1 ..................................................\n",
      "[CV] ...................... C=5, gamma=0.1, score=0.998, total=   0.1s\n",
      "[CV] C=5, gamma=0.05 .................................................\n",
      "[CV] ..................... C=5, gamma=0.05, score=0.998, total=   0.1s\n",
      "[CV] C=5, gamma=0.05 .................................................\n",
      "[CV] ..................... C=5, gamma=0.05, score=0.998, total=   0.1s\n",
      "[CV] C=5, gamma=0.05 .................................................\n",
      "[CV] ..................... C=5, gamma=0.05, score=0.998, total=   0.1s\n",
      "[CV] C=5, gamma=0.05 .................................................\n",
      "[CV] ..................... C=5, gamma=0.05, score=0.998, total=   0.1s\n",
      "[CV] C=5, gamma=0.05 .................................................\n",
      "[CV] ..................... C=5, gamma=0.05, score=0.998, total=   0.1s\n",
      "[CV] C=5, gamma=0.01 .................................................\n",
      "[CV] ..................... C=5, gamma=0.01, score=0.998, total=   0.1s\n",
      "[CV] C=5, gamma=0.01 .................................................\n",
      "[CV] ..................... C=5, gamma=0.01, score=0.998, total=   0.1s\n",
      "[CV] C=5, gamma=0.01 .................................................\n",
      "[CV] ..................... C=5, gamma=0.01, score=0.998, total=   0.1s\n",
      "[CV] C=5, gamma=0.01 .................................................\n",
      "[CV] ..................... C=5, gamma=0.01, score=0.998, total=   0.1s\n",
      "[CV] C=5, gamma=0.01 .................................................\n",
      "[CV] ..................... C=5, gamma=0.01, score=0.998, total=   0.1s\n",
      "[CV] C=5, gamma=0.005 ................................................\n",
      "[CV] .................... C=5, gamma=0.005, score=0.998, total=   0.1s\n",
      "[CV] C=5, gamma=0.005 ................................................\n",
      "[CV] .................... C=5, gamma=0.005, score=0.998, total=   0.1s\n",
      "[CV] C=5, gamma=0.005 ................................................\n",
      "[CV] .................... C=5, gamma=0.005, score=0.998, total=   0.1s\n",
      "[CV] C=5, gamma=0.005 ................................................\n",
      "[CV] .................... C=5, gamma=0.005, score=0.998, total=   0.1s\n",
      "[CV] C=5, gamma=0.005 ................................................\n",
      "[CV] .................... C=5, gamma=0.005, score=0.998, total=   0.1s\n",
      "[CV] C=5, gamma=0.001 ................................................\n",
      "[CV] .................... C=5, gamma=0.001, score=0.998, total=   0.1s\n",
      "[CV] C=5, gamma=0.001 ................................................\n",
      "[CV] .................... C=5, gamma=0.001, score=0.998, total=   0.1s\n",
      "[CV] C=5, gamma=0.001 ................................................\n",
      "[CV] .................... C=5, gamma=0.001, score=0.998, total=   0.1s\n",
      "[CV] C=5, gamma=0.001 ................................................\n",
      "[CV] .................... C=5, gamma=0.001, score=0.998, total=   0.1s\n",
      "[CV] C=5, gamma=0.001 ................................................\n",
      "[CV] .................... C=5, gamma=0.001, score=0.998, total=   0.1s\n",
      "[CV] C=5, gamma=0.0005 ...............................................\n",
      "[CV] ................... C=5, gamma=0.0005, score=0.998, total=   0.1s\n",
      "[CV] C=5, gamma=0.0005 ...............................................\n",
      "[CV] ................... C=5, gamma=0.0005, score=0.998, total=   0.1s\n",
      "[CV] C=5, gamma=0.0005 ...............................................\n",
      "[CV] ................... C=5, gamma=0.0005, score=0.998, total=   0.1s\n",
      "[CV] C=5, gamma=0.0005 ...............................................\n",
      "[CV] ................... C=5, gamma=0.0005, score=0.998, total=   0.1s\n",
      "[CV] C=5, gamma=0.0005 ...............................................\n",
      "[CV] ................... C=5, gamma=0.0005, score=0.998, total=   0.1s\n",
      "[CV] C=5, gamma=0.0001 ...............................................\n",
      "[CV] ................... C=5, gamma=0.0001, score=0.998, total=   0.1s\n",
      "[CV] C=5, gamma=0.0001 ...............................................\n",
      "[CV] ................... C=5, gamma=0.0001, score=0.998, total=   0.1s\n",
      "[CV] C=5, gamma=0.0001 ...............................................\n",
      "[CV] ................... C=5, gamma=0.0001, score=0.998, total=   0.1s\n",
      "[CV] C=5, gamma=0.0001 ...............................................\n",
      "[CV] ................... C=5, gamma=0.0001, score=0.998, total=   0.1s\n",
      "[CV] C=5, gamma=0.0001 ...............................................\n",
      "[CV] ................... C=5, gamma=0.0001, score=0.998, total=   0.1s\n",
      "[CV] C=10, gamma=0.1 .................................................\n",
      "[CV] ..................... C=10, gamma=0.1, score=0.998, total=   0.1s\n",
      "[CV] C=10, gamma=0.1 .................................................\n",
      "[CV] ..................... C=10, gamma=0.1, score=0.998, total=   0.1s\n",
      "[CV] C=10, gamma=0.1 .................................................\n",
      "[CV] ..................... C=10, gamma=0.1, score=0.998, total=   0.1s\n",
      "[CV] C=10, gamma=0.1 .................................................\n",
      "[CV] ..................... C=10, gamma=0.1, score=0.998, total=   0.1s\n",
      "[CV] C=10, gamma=0.1 .................................................\n",
      "[CV] ..................... C=10, gamma=0.1, score=0.998, total=   0.1s\n",
      "[CV] C=10, gamma=0.05 ................................................\n",
      "[CV] .................... C=10, gamma=0.05, score=0.998, total=   0.1s\n",
      "[CV] C=10, gamma=0.05 ................................................\n",
      "[CV] .................... C=10, gamma=0.05, score=0.998, total=   0.1s\n",
      "[CV] C=10, gamma=0.05 ................................................\n",
      "[CV] .................... C=10, gamma=0.05, score=0.998, total=   0.1s\n",
      "[CV] C=10, gamma=0.05 ................................................\n",
      "[CV] .................... C=10, gamma=0.05, score=0.998, total=   0.1s\n",
      "[CV] C=10, gamma=0.05 ................................................\n",
      "[CV] .................... C=10, gamma=0.05, score=0.998, total=   0.1s\n",
      "[CV] C=10, gamma=0.01 ................................................\n",
      "[CV] .................... C=10, gamma=0.01, score=0.998, total=   0.1s\n",
      "[CV] C=10, gamma=0.01 ................................................\n",
      "[CV] .................... C=10, gamma=0.01, score=0.998, total=   0.1s\n",
      "[CV] C=10, gamma=0.01 ................................................\n",
      "[CV] .................... C=10, gamma=0.01, score=0.998, total=   0.1s\n",
      "[CV] C=10, gamma=0.01 ................................................\n",
      "[CV] .................... C=10, gamma=0.01, score=0.998, total=   0.1s\n",
      "[CV] C=10, gamma=0.01 ................................................\n",
      "[CV] .................... C=10, gamma=0.01, score=0.998, total=   0.1s\n",
      "[CV] C=10, gamma=0.005 ...............................................\n"
     ]
    },
    {
     "name": "stdout",
     "output_type": "stream",
     "text": [
      "[CV] ................... C=10, gamma=0.005, score=0.998, total=   0.1s\n",
      "[CV] C=10, gamma=0.005 ...............................................\n",
      "[CV] ................... C=10, gamma=0.005, score=0.998, total=   0.1s\n",
      "[CV] C=10, gamma=0.005 ...............................................\n",
      "[CV] ................... C=10, gamma=0.005, score=0.998, total=   0.1s\n",
      "[CV] C=10, gamma=0.005 ...............................................\n",
      "[CV] ................... C=10, gamma=0.005, score=0.998, total=   0.1s\n",
      "[CV] C=10, gamma=0.005 ...............................................\n",
      "[CV] ................... C=10, gamma=0.005, score=0.998, total=   0.1s\n",
      "[CV] C=10, gamma=0.001 ...............................................\n",
      "[CV] ................... C=10, gamma=0.001, score=0.998, total=   0.1s\n",
      "[CV] C=10, gamma=0.001 ...............................................\n",
      "[CV] ................... C=10, gamma=0.001, score=0.998, total=   0.1s\n",
      "[CV] C=10, gamma=0.001 ...............................................\n",
      "[CV] ................... C=10, gamma=0.001, score=0.998, total=   0.1s\n",
      "[CV] C=10, gamma=0.001 ...............................................\n",
      "[CV] ................... C=10, gamma=0.001, score=0.998, total=   0.1s\n",
      "[CV] C=10, gamma=0.001 ...............................................\n",
      "[CV] ................... C=10, gamma=0.001, score=0.998, total=   0.1s\n",
      "[CV] C=10, gamma=0.0005 ..............................................\n",
      "[CV] .................. C=10, gamma=0.0005, score=0.998, total=   0.1s\n",
      "[CV] C=10, gamma=0.0005 ..............................................\n",
      "[CV] .................. C=10, gamma=0.0005, score=0.998, total=   0.1s\n",
      "[CV] C=10, gamma=0.0005 ..............................................\n",
      "[CV] .................. C=10, gamma=0.0005, score=0.998, total=   0.1s\n",
      "[CV] C=10, gamma=0.0005 ..............................................\n",
      "[CV] .................. C=10, gamma=0.0005, score=0.998, total=   0.1s\n",
      "[CV] C=10, gamma=0.0005 ..............................................\n",
      "[CV] .................. C=10, gamma=0.0005, score=0.998, total=   0.1s\n",
      "[CV] C=10, gamma=0.0001 ..............................................\n",
      "[CV] .................. C=10, gamma=0.0001, score=0.998, total=   0.1s\n",
      "[CV] C=10, gamma=0.0001 ..............................................\n",
      "[CV] .................. C=10, gamma=0.0001, score=0.998, total=   0.1s\n",
      "[CV] C=10, gamma=0.0001 ..............................................\n",
      "[CV] .................. C=10, gamma=0.0001, score=0.998, total=   0.1s\n",
      "[CV] C=10, gamma=0.0001 ..............................................\n",
      "[CV] .................. C=10, gamma=0.0001, score=0.998, total=   0.1s\n",
      "[CV] C=10, gamma=0.0001 ..............................................\n",
      "[CV] .................. C=10, gamma=0.0001, score=0.998, total=   0.1s\n",
      "[CV] C=20, gamma=0.1 .................................................\n",
      "[CV] ..................... C=20, gamma=0.1, score=0.998, total=   0.1s\n",
      "[CV] C=20, gamma=0.1 .................................................\n",
      "[CV] ..................... C=20, gamma=0.1, score=0.998, total=   0.1s\n",
      "[CV] C=20, gamma=0.1 .................................................\n",
      "[CV] ..................... C=20, gamma=0.1, score=0.998, total=   0.1s\n",
      "[CV] C=20, gamma=0.1 .................................................\n",
      "[CV] ..................... C=20, gamma=0.1, score=0.998, total=   0.1s\n",
      "[CV] C=20, gamma=0.1 .................................................\n",
      "[CV] ..................... C=20, gamma=0.1, score=0.998, total=   0.1s\n",
      "[CV] C=20, gamma=0.05 ................................................\n",
      "[CV] .................... C=20, gamma=0.05, score=0.998, total=   0.1s\n",
      "[CV] C=20, gamma=0.05 ................................................\n",
      "[CV] .................... C=20, gamma=0.05, score=0.998, total=   0.1s\n",
      "[CV] C=20, gamma=0.05 ................................................\n",
      "[CV] .................... C=20, gamma=0.05, score=0.998, total=   0.1s\n",
      "[CV] C=20, gamma=0.05 ................................................\n",
      "[CV] .................... C=20, gamma=0.05, score=0.998, total=   0.1s\n",
      "[CV] C=20, gamma=0.05 ................................................\n",
      "[CV] .................... C=20, gamma=0.05, score=0.998, total=   0.1s\n",
      "[CV] C=20, gamma=0.01 ................................................\n",
      "[CV] .................... C=20, gamma=0.01, score=0.998, total=   0.1s\n",
      "[CV] C=20, gamma=0.01 ................................................\n",
      "[CV] .................... C=20, gamma=0.01, score=0.998, total=   0.1s\n",
      "[CV] C=20, gamma=0.01 ................................................\n",
      "[CV] .................... C=20, gamma=0.01, score=0.998, total=   0.1s\n",
      "[CV] C=20, gamma=0.01 ................................................\n",
      "[CV] .................... C=20, gamma=0.01, score=0.998, total=   0.1s\n",
      "[CV] C=20, gamma=0.01 ................................................\n",
      "[CV] .................... C=20, gamma=0.01, score=0.998, total=   0.1s\n",
      "[CV] C=20, gamma=0.005 ...............................................\n",
      "[CV] ................... C=20, gamma=0.005, score=0.998, total=   0.1s\n",
      "[CV] C=20, gamma=0.005 ...............................................\n",
      "[CV] ................... C=20, gamma=0.005, score=0.998, total=   0.1s\n",
      "[CV] C=20, gamma=0.005 ...............................................\n",
      "[CV] ................... C=20, gamma=0.005, score=0.998, total=   0.1s\n",
      "[CV] C=20, gamma=0.005 ...............................................\n",
      "[CV] ................... C=20, gamma=0.005, score=0.998, total=   0.1s\n",
      "[CV] C=20, gamma=0.005 ...............................................\n",
      "[CV] ................... C=20, gamma=0.005, score=0.998, total=   0.1s\n",
      "[CV] C=20, gamma=0.001 ...............................................\n",
      "[CV] ................... C=20, gamma=0.001, score=0.998, total=   0.1s\n",
      "[CV] C=20, gamma=0.001 ...............................................\n",
      "[CV] ................... C=20, gamma=0.001, score=0.998, total=   0.1s\n",
      "[CV] C=20, gamma=0.001 ...............................................\n",
      "[CV] ................... C=20, gamma=0.001, score=0.998, total=   0.1s\n",
      "[CV] C=20, gamma=0.001 ...............................................\n",
      "[CV] ................... C=20, gamma=0.001, score=0.998, total=   0.1s\n",
      "[CV] C=20, gamma=0.001 ...............................................\n",
      "[CV] ................... C=20, gamma=0.001, score=0.998, total=   0.1s\n",
      "[CV] C=20, gamma=0.0005 ..............................................\n",
      "[CV] .................. C=20, gamma=0.0005, score=0.998, total=   0.1s\n",
      "[CV] C=20, gamma=0.0005 ..............................................\n",
      "[CV] .................. C=20, gamma=0.0005, score=0.998, total=   0.1s\n",
      "[CV] C=20, gamma=0.0005 ..............................................\n",
      "[CV] .................. C=20, gamma=0.0005, score=0.998, total=   0.1s\n",
      "[CV] C=20, gamma=0.0005 ..............................................\n",
      "[CV] .................. C=20, gamma=0.0005, score=0.998, total=   0.1s\n",
      "[CV] C=20, gamma=0.0005 ..............................................\n",
      "[CV] .................. C=20, gamma=0.0005, score=0.998, total=   0.1s\n",
      "[CV] C=20, gamma=0.0001 ..............................................\n",
      "[CV] .................. C=20, gamma=0.0001, score=0.998, total=   0.1s\n",
      "[CV] C=20, gamma=0.0001 ..............................................\n",
      "[CV] .................. C=20, gamma=0.0001, score=0.998, total=   0.1s\n",
      "[CV] C=20, gamma=0.0001 ..............................................\n",
      "[CV] .................. C=20, gamma=0.0001, score=0.998, total=   0.1s\n",
      "[CV] C=20, gamma=0.0001 ..............................................\n",
      "[CV] .................. C=20, gamma=0.0001, score=0.998, total=   0.1s\n",
      "[CV] C=20, gamma=0.0001 ..............................................\n",
      "[CV] .................. C=20, gamma=0.0001, score=0.998, total=   0.1s\n",
      "[CV] C=50, gamma=0.1 .................................................\n",
      "[CV] ..................... C=50, gamma=0.1, score=0.998, total=   0.1s\n",
      "[CV] C=50, gamma=0.1 .................................................\n",
      "[CV] ..................... C=50, gamma=0.1, score=0.998, total=   0.1s\n",
      "[CV] C=50, gamma=0.1 .................................................\n",
      "[CV] ..................... C=50, gamma=0.1, score=0.998, total=   0.1s\n",
      "[CV] C=50, gamma=0.1 .................................................\n"
     ]
    },
    {
     "name": "stdout",
     "output_type": "stream",
     "text": [
      "[CV] ..................... C=50, gamma=0.1, score=0.998, total=   0.1s\n",
      "[CV] C=50, gamma=0.1 .................................................\n",
      "[CV] ..................... C=50, gamma=0.1, score=0.998, total=   0.1s\n",
      "[CV] C=50, gamma=0.05 ................................................\n",
      "[CV] .................... C=50, gamma=0.05, score=0.998, total=   0.1s\n",
      "[CV] C=50, gamma=0.05 ................................................\n",
      "[CV] .................... C=50, gamma=0.05, score=0.998, total=   0.1s\n",
      "[CV] C=50, gamma=0.05 ................................................\n",
      "[CV] .................... C=50, gamma=0.05, score=0.998, total=   0.1s\n",
      "[CV] C=50, gamma=0.05 ................................................\n",
      "[CV] .................... C=50, gamma=0.05, score=0.998, total=   0.1s\n",
      "[CV] C=50, gamma=0.05 ................................................\n",
      "[CV] .................... C=50, gamma=0.05, score=0.998, total=   0.1s\n",
      "[CV] C=50, gamma=0.01 ................................................\n",
      "[CV] .................... C=50, gamma=0.01, score=0.998, total=   0.1s\n",
      "[CV] C=50, gamma=0.01 ................................................\n",
      "[CV] .................... C=50, gamma=0.01, score=0.998, total=   0.1s\n",
      "[CV] C=50, gamma=0.01 ................................................\n",
      "[CV] .................... C=50, gamma=0.01, score=0.998, total=   0.1s\n",
      "[CV] C=50, gamma=0.01 ................................................\n",
      "[CV] .................... C=50, gamma=0.01, score=0.998, total=   0.1s\n",
      "[CV] C=50, gamma=0.01 ................................................\n",
      "[CV] .................... C=50, gamma=0.01, score=0.998, total=   0.1s\n",
      "[CV] C=50, gamma=0.005 ...............................................\n",
      "[CV] ................... C=50, gamma=0.005, score=0.998, total=   0.1s\n",
      "[CV] C=50, gamma=0.005 ...............................................\n",
      "[CV] ................... C=50, gamma=0.005, score=0.998, total=   0.1s\n",
      "[CV] C=50, gamma=0.005 ...............................................\n",
      "[CV] ................... C=50, gamma=0.005, score=0.998, total=   0.1s\n",
      "[CV] C=50, gamma=0.005 ...............................................\n",
      "[CV] ................... C=50, gamma=0.005, score=0.998, total=   0.1s\n",
      "[CV] C=50, gamma=0.005 ...............................................\n",
      "[CV] ................... C=50, gamma=0.005, score=0.998, total=   0.1s\n",
      "[CV] C=50, gamma=0.001 ...............................................\n",
      "[CV] ................... C=50, gamma=0.001, score=0.998, total=   0.1s\n",
      "[CV] C=50, gamma=0.001 ...............................................\n",
      "[CV] ................... C=50, gamma=0.001, score=0.998, total=   0.1s\n",
      "[CV] C=50, gamma=0.001 ...............................................\n",
      "[CV] ................... C=50, gamma=0.001, score=0.998, total=   0.1s\n",
      "[CV] C=50, gamma=0.001 ...............................................\n",
      "[CV] ................... C=50, gamma=0.001, score=0.998, total=   0.1s\n",
      "[CV] C=50, gamma=0.001 ...............................................\n",
      "[CV] ................... C=50, gamma=0.001, score=0.998, total=   0.1s\n",
      "[CV] C=50, gamma=0.0005 ..............................................\n",
      "[CV] .................. C=50, gamma=0.0005, score=0.998, total=   0.1s\n",
      "[CV] C=50, gamma=0.0005 ..............................................\n",
      "[CV] .................. C=50, gamma=0.0005, score=0.998, total=   0.1s\n",
      "[CV] C=50, gamma=0.0005 ..............................................\n",
      "[CV] .................. C=50, gamma=0.0005, score=0.998, total=   0.1s\n",
      "[CV] C=50, gamma=0.0005 ..............................................\n",
      "[CV] .................. C=50, gamma=0.0005, score=0.998, total=   0.1s\n",
      "[CV] C=50, gamma=0.0005 ..............................................\n",
      "[CV] .................. C=50, gamma=0.0005, score=0.998, total=   0.1s\n",
      "[CV] C=50, gamma=0.0001 ..............................................\n",
      "[CV] .................. C=50, gamma=0.0001, score=0.998, total=   0.1s\n",
      "[CV] C=50, gamma=0.0001 ..............................................\n",
      "[CV] .................. C=50, gamma=0.0001, score=0.998, total=   0.1s\n",
      "[CV] C=50, gamma=0.0001 ..............................................\n",
      "[CV] .................. C=50, gamma=0.0001, score=0.998, total=   0.1s\n",
      "[CV] C=50, gamma=0.0001 ..............................................\n",
      "[CV] .................. C=50, gamma=0.0001, score=0.998, total=   0.1s\n",
      "[CV] C=50, gamma=0.0001 ..............................................\n",
      "[CV] .................. C=50, gamma=0.0001, score=0.998, total=   0.1s\n",
      "[CV] C=100, gamma=0.1 ................................................\n",
      "[CV] .................... C=100, gamma=0.1, score=0.998, total=   0.1s\n",
      "[CV] C=100, gamma=0.1 ................................................\n",
      "[CV] .................... C=100, gamma=0.1, score=0.998, total=   0.1s\n",
      "[CV] C=100, gamma=0.1 ................................................\n",
      "[CV] .................... C=100, gamma=0.1, score=0.998, total=   0.1s\n",
      "[CV] C=100, gamma=0.1 ................................................\n",
      "[CV] .................... C=100, gamma=0.1, score=0.998, total=   0.1s\n",
      "[CV] C=100, gamma=0.1 ................................................\n",
      "[CV] .................... C=100, gamma=0.1, score=0.998, total=   0.1s\n",
      "[CV] C=100, gamma=0.05 ...............................................\n",
      "[CV] ................... C=100, gamma=0.05, score=0.998, total=   0.1s\n",
      "[CV] C=100, gamma=0.05 ...............................................\n",
      "[CV] ................... C=100, gamma=0.05, score=0.998, total=   0.1s\n",
      "[CV] C=100, gamma=0.05 ...............................................\n",
      "[CV] ................... C=100, gamma=0.05, score=0.998, total=   0.1s\n",
      "[CV] C=100, gamma=0.05 ...............................................\n",
      "[CV] ................... C=100, gamma=0.05, score=0.998, total=   0.1s\n",
      "[CV] C=100, gamma=0.05 ...............................................\n",
      "[CV] ................... C=100, gamma=0.05, score=0.998, total=   0.1s\n",
      "[CV] C=100, gamma=0.01 ...............................................\n",
      "[CV] ................... C=100, gamma=0.01, score=0.998, total=   0.1s\n",
      "[CV] C=100, gamma=0.01 ...............................................\n",
      "[CV] ................... C=100, gamma=0.01, score=0.998, total=   0.1s\n",
      "[CV] C=100, gamma=0.01 ...............................................\n",
      "[CV] ................... C=100, gamma=0.01, score=0.998, total=   0.1s\n",
      "[CV] C=100, gamma=0.01 ...............................................\n",
      "[CV] ................... C=100, gamma=0.01, score=0.998, total=   0.1s\n",
      "[CV] C=100, gamma=0.01 ...............................................\n",
      "[CV] ................... C=100, gamma=0.01, score=0.998, total=   0.1s\n",
      "[CV] C=100, gamma=0.005 ..............................................\n",
      "[CV] .................. C=100, gamma=0.005, score=0.998, total=   0.1s\n",
      "[CV] C=100, gamma=0.005 ..............................................\n",
      "[CV] .................. C=100, gamma=0.005, score=0.998, total=   0.1s\n",
      "[CV] C=100, gamma=0.005 ..............................................\n",
      "[CV] .................. C=100, gamma=0.005, score=0.998, total=   0.1s\n",
      "[CV] C=100, gamma=0.005 ..............................................\n",
      "[CV] .................. C=100, gamma=0.005, score=0.998, total=   0.1s\n",
      "[CV] C=100, gamma=0.005 ..............................................\n",
      "[CV] .................. C=100, gamma=0.005, score=0.998, total=   0.1s\n",
      "[CV] C=100, gamma=0.001 ..............................................\n",
      "[CV] .................. C=100, gamma=0.001, score=0.998, total=   0.1s\n",
      "[CV] C=100, gamma=0.001 ..............................................\n",
      "[CV] .................. C=100, gamma=0.001, score=0.998, total=   0.1s\n",
      "[CV] C=100, gamma=0.001 ..............................................\n",
      "[CV] .................. C=100, gamma=0.001, score=0.998, total=   0.1s\n",
      "[CV] C=100, gamma=0.001 ..............................................\n",
      "[CV] .................. C=100, gamma=0.001, score=0.998, total=   0.1s\n",
      "[CV] C=100, gamma=0.001 ..............................................\n",
      "[CV] .................. C=100, gamma=0.001, score=0.998, total=   0.1s\n",
      "[CV] C=100, gamma=0.0005 .............................................\n",
      "[CV] ................. C=100, gamma=0.0005, score=0.998, total=   0.1s\n",
      "[CV] C=100, gamma=0.0005 .............................................\n",
      "[CV] ................. C=100, gamma=0.0005, score=0.998, total=   0.1s\n",
      "[CV] C=100, gamma=0.0005 .............................................\n",
      "[CV] ................. C=100, gamma=0.0005, score=0.998, total=   0.1s\n",
      "[CV] C=100, gamma=0.0005 .............................................\n"
     ]
    },
    {
     "name": "stdout",
     "output_type": "stream",
     "text": [
      "[CV] ................. C=100, gamma=0.0005, score=0.998, total=   0.1s\n",
      "[CV] C=100, gamma=0.0005 .............................................\n",
      "[CV] ................. C=100, gamma=0.0005, score=0.998, total=   0.1s\n",
      "[CV] C=100, gamma=0.0001 .............................................\n",
      "[CV] ................. C=100, gamma=0.0001, score=0.998, total=   0.1s\n",
      "[CV] C=100, gamma=0.0001 .............................................\n",
      "[CV] ................. C=100, gamma=0.0001, score=0.998, total=   0.1s\n",
      "[CV] C=100, gamma=0.0001 .............................................\n",
      "[CV] ................. C=100, gamma=0.0001, score=0.998, total=   0.1s\n",
      "[CV] C=100, gamma=0.0001 .............................................\n",
      "[CV] ................. C=100, gamma=0.0001, score=0.998, total=   0.1s\n",
      "[CV] C=100, gamma=0.0001 .............................................\n",
      "[CV] ................. C=100, gamma=0.0001, score=0.998, total=   0.1s\n"
     ]
    },
    {
     "name": "stderr",
     "output_type": "stream",
     "text": [
      "[Parallel(n_jobs=1)]: Done 245 out of 245 | elapsed:   16.2s finished\n"
     ]
    },
    {
     "data": {
      "text/plain": [
       "GridSearchCV(cv=None, error_score=nan,\n",
       "             estimator=SVC(C=1.0, break_ties=False, cache_size=200,\n",
       "                           class_weight=None, coef0=0.0,\n",
       "                           decision_function_shape='ovr', degree=3,\n",
       "                           gamma='scale', kernel='rbf', max_iter=-1,\n",
       "                           probability=False, random_state=None, shrinking=True,\n",
       "                           tol=0.001, verbose=False),\n",
       "             iid='deprecated', n_jobs=None,\n",
       "             param_grid={'C': [1, 2, 5, 10, 20, 50, 100],\n",
       "                         'gamma': [0.1, 0.05, 0.01, 0.005, 0.001, 0.0005,\n",
       "                                   0.0001]},\n",
       "             pre_dispatch='2*n_jobs', refit=True, return_train_score=False,\n",
       "             scoring=None, verbose=3)"
      ]
     },
     "execution_count": 23,
     "metadata": {},
     "output_type": "execute_result"
    }
   ],
   "source": [
    "grid.fit(X_train_s, y_train_s) # To find the corss validation to find the best parameter combination"
   ]
  },
  {
   "cell_type": "code",
   "execution_count": 24,
   "metadata": {},
   "outputs": [
    {
     "data": {
      "text/plain": [
       "{'C': 1, 'gamma': 0.1}"
      ]
     },
     "execution_count": 24,
     "metadata": {},
     "output_type": "execute_result"
    }
   ],
   "source": [
    "grid.best_params_ # combination of paramters that had the best cross validation score"
   ]
  },
  {
   "cell_type": "code",
   "execution_count": 25,
   "metadata": {},
   "outputs": [
    {
     "data": {
      "text/plain": [
       "SVC(C=1, break_ties=False, cache_size=200, class_weight=None, coef0=0.0,\n",
       "    decision_function_shape='ovr', degree=3, gamma=0.1, kernel='rbf',\n",
       "    max_iter=-1, probability=False, random_state=None, shrinking=True,\n",
       "    tol=0.001, verbose=False)"
      ]
     },
     "execution_count": 25,
     "metadata": {},
     "output_type": "execute_result"
    }
   ],
   "source": [
    "model_svm = SVC(C=1, gamma=0.1)\n",
    "model_svm.fit(X_train, y_train)"
   ]
  },
  {
   "cell_type": "code",
   "execution_count": 26,
   "metadata": {},
   "outputs": [],
   "source": [
    "predictions_svm = model_svm.predict(X_test)"
   ]
  },
  {
   "cell_type": "code",
   "execution_count": 27,
   "metadata": {},
   "outputs": [
    {
     "name": "stdout",
     "output_type": "stream",
     "text": [
      "              precision    recall  f1-score   support\n",
      "\n",
      "           0       1.00      1.00      1.00     85299\n",
      "           1       0.87      0.76      0.81       144\n",
      "\n",
      "    accuracy                           1.00     85443\n",
      "   macro avg       0.94      0.88      0.91     85443\n",
      "weighted avg       1.00      1.00      1.00     85443\n",
      "\n",
      "\n",
      "\n",
      "[[85283    16]\n",
      " [   34   110]]\n"
     ]
    }
   ],
   "source": [
    "print(classification_report(y_test, predictions_svm))\n",
    "print('\\n')\n",
    "print(confusion_matrix(y_test, predictions_svm))"
   ]
  },
  {
   "cell_type": "code",
   "execution_count": null,
   "metadata": {},
   "outputs": [],
   "source": []
  },
  {
   "cell_type": "markdown",
   "metadata": {},
   "source": [
    "# Trainig a Deep Learning Neural Network Model"
   ]
  },
  {
   "cell_type": "code",
   "execution_count": 38,
   "metadata": {},
   "outputs": [],
   "source": [
    "model = Sequential()\n",
    "\n",
    "model.add(Dense(29, activation='relu'))\n",
    "model.add(Dropout(rate=0.2))\n",
    "\n",
    "model.add(Dense(20, activation='relu'))\n",
    "model.add(Dropout(rate=0.2))\n",
    "\n",
    "model.add(Dense(10, activation='relu'))\n",
    "model.add(Dropout(rate=0.2))\n",
    "\n",
    "model.add(Dense(1, activation='sigmoid'))\n",
    "\n",
    "model.compile(loss='binary_crossentropy', optimizer='adam')"
   ]
  },
  {
   "cell_type": "code",
   "execution_count": 39,
   "metadata": {
    "scrolled": true
   },
   "outputs": [
    {
     "name": "stdout",
     "output_type": "stream",
     "text": [
      "Train on 199364 samples, validate on 85443 samples\n",
      "Epoch 1/30\n",
      "199364/199364 [==============================] - 2s 11us/sample - loss: 0.0393 - val_loss: 0.0113\n",
      "Epoch 2/30\n",
      "199364/199364 [==============================] - 2s 8us/sample - loss: 0.0112 - val_loss: 0.0057\n",
      "Epoch 3/30\n",
      "199364/199364 [==============================] - 2s 8us/sample - loss: 0.0072 - val_loss: 0.0033\n",
      "Epoch 4/30\n",
      "199364/199364 [==============================] - 2s 9us/sample - loss: 0.0058 - val_loss: 0.0038\n",
      "Epoch 5/30\n",
      "199364/199364 [==============================] - 2s 9us/sample - loss: 0.0055 - val_loss: 0.0033\n",
      "Epoch 6/30\n",
      "199364/199364 [==============================] - 2s 8us/sample - loss: 0.0052 - val_loss: 0.0036\n",
      "Epoch 7/30\n",
      "199364/199364 [==============================] - 2s 9us/sample - loss: 0.0049 - val_loss: 0.0037\n",
      "Epoch 8/30\n",
      "199364/199364 [==============================] - 2s 8us/sample - loss: 0.0050 - val_loss: 0.0037\n",
      "Epoch 9/30\n",
      "199364/199364 [==============================] - 2s 9us/sample - loss: 0.0049 - val_loss: 0.0038\n",
      "Epoch 10/30\n",
      "199364/199364 [==============================] - 2s 8us/sample - loss: 0.0049 - val_loss: 0.0033\n",
      "Epoch 11/30\n",
      "199364/199364 [==============================] - 2s 9us/sample - loss: 0.0046 - val_loss: 0.0035\n",
      "Epoch 12/30\n",
      "199364/199364 [==============================] - 2s 8us/sample - loss: 0.0045 - val_loss: 0.0033\n",
      "Epoch 13/30\n",
      "199364/199364 [==============================] - 2s 8us/sample - loss: 0.0044 - val_loss: 0.0037\n",
      "Epoch 14/30\n",
      "199364/199364 [==============================] - 2s 9us/sample - loss: 0.0045 - val_loss: 0.0032\n",
      "Epoch 15/30\n",
      "199364/199364 [==============================] - 2s 8us/sample - loss: 0.0042 - val_loss: 0.0034\n",
      "Epoch 16/30\n",
      "199364/199364 [==============================] - 2s 9us/sample - loss: 0.0044 - val_loss: 0.0033\n",
      "Epoch 17/30\n",
      "199364/199364 [==============================] - 2s 8us/sample - loss: 0.0043 - val_loss: 0.0031\n",
      "Epoch 18/30\n",
      "199364/199364 [==============================] - 2s 8us/sample - loss: 0.0044 - val_loss: 0.0036\n",
      "Epoch 19/30\n",
      "199364/199364 [==============================] - 2s 8us/sample - loss: 0.0043 - val_loss: 0.0033\n",
      "Epoch 20/30\n",
      "199364/199364 [==============================] - 2s 9us/sample - loss: 0.0044 - val_loss: 0.0031\n",
      "Epoch 21/30\n",
      "199364/199364 [==============================] - 2s 9us/sample - loss: 0.0043 - val_loss: 0.0031\n",
      "Epoch 22/30\n",
      "199364/199364 [==============================] - 2s 8us/sample - loss: 0.0042 - val_loss: 0.0032\n",
      "Epoch 23/30\n",
      "199364/199364 [==============================] - 2s 8us/sample - loss: 0.0043 - val_loss: 0.0032\n",
      "Epoch 24/30\n",
      "199364/199364 [==============================] - 2s 9us/sample - loss: 0.0041 - val_loss: 0.0031\n",
      "Epoch 25/30\n",
      "199364/199364 [==============================] - 2s 9us/sample - loss: 0.0043 - val_loss: 0.0034\n",
      "Epoch 26/30\n",
      "199364/199364 [==============================] - 2s 10us/sample - loss: 0.0043 - val_loss: 0.0038\n",
      "Epoch 27/30\n",
      "199364/199364 [==============================] - 2s 9us/sample - loss: 0.0041 - val_loss: 0.0033\n",
      "Epoch 28/30\n",
      "199364/199364 [==============================] - 2s 9us/sample - loss: 0.0042 - val_loss: 0.0031\n",
      "Epoch 29/30\n",
      "199364/199364 [==============================] - 2s 10us/sample - loss: 0.0039 - val_loss: 0.0033\n",
      "Epoch 30/30\n",
      "199364/199364 [==============================] - 2s 9us/sample - loss: 0.0040 - val_loss: 0.0035\n"
     ]
    },
    {
     "data": {
      "text/plain": [
       "<tensorflow.python.keras.callbacks.History at 0x28dd18b8148>"
      ]
     },
     "execution_count": 39,
     "metadata": {},
     "output_type": "execute_result"
    }
   ],
   "source": [
    "model.fit(x=X_train, y=y_train,\n",
    "         validation_data= (X_test,y_test),\n",
    "         batch_size=256, epochs=30)"
   ]
  },
  {
   "cell_type": "code",
   "execution_count": 40,
   "metadata": {
    "scrolled": false
   },
   "outputs": [
    {
     "data": {
      "text/plain": [
       "<matplotlib.axes._subplots.AxesSubplot at 0x28dd204c988>"
      ]
     },
     "execution_count": 40,
     "metadata": {},
     "output_type": "execute_result"
    },
    {
     "data": {
      "image/png": "[encoded data removed]",
      "text/plain": [
       "<Figure size 432x288 with 1 Axes>"
      ]
     },
     "metadata": {},
     "output_type": "display_data"
    }
   ],
   "source": [
    "pd.DataFrame(model.history.history).plot()"
   ]
  },
  {
   "cell_type": "markdown",
   "metadata": {},
   "source": [
    "# Evaluating the Deep Learning model"
   ]
  },
  {
   "cell_type": "code",
   "execution_count": 41,
   "metadata": {},
   "outputs": [],
   "source": [
    "predictions = model.predict_classes(X_test)"
   ]
  },
  {
   "cell_type": "code",
   "execution_count": 42,
   "metadata": {},
   "outputs": [
    {
     "name": "stdout",
     "output_type": "stream",
     "text": [
      "              precision    recall  f1-score   support\n",
      "\n",
      "           0       1.00      1.00      1.00     85299\n",
      "           1       0.88      0.78      0.83       144\n",
      "\n",
      "    accuracy                           1.00     85443\n",
      "   macro avg       0.94      0.89      0.92     85443\n",
      "weighted avg       1.00      1.00      1.00     85443\n",
      "\n"
     ]
    }
   ],
   "source": [
    "print(classification_report(y_test, predictions))"
   ]
  },
  {
   "cell_type": "code",
   "execution_count": 43,
   "metadata": {
    "scrolled": false
   },
   "outputs": [
    {
     "name": "stdout",
     "output_type": "stream",
     "text": [
      "[[85284    15]\n",
      " [   31   113]]\n"
     ]
    }
   ],
   "source": [
    "print(confusion_matrix(y_test, predictions)) # Confusion Matrix ([[tn, fp], [fn, tp]])"
   ]
  },
  {
   "cell_type": "markdown",
   "metadata": {},
   "source": [
    "# Testing the model on a single data point"
   ]
  },
  {
   "cell_type": "code",
   "execution_count": 44,
   "metadata": {},
   "outputs": [],
   "source": [
    "import random\n",
    "rndm_id = random.randint(0,len(df))"
   ]
  },
  {
   "cell_type": "code",
   "execution_count": 45,
   "metadata": {},
   "outputs": [],
   "source": [
    "new_data = df.drop('Class',axis=1).iloc[rndm_id]\n",
    "new_data = scaler.transform(new_data.values.reshape(1,new_data.shape[0]))"
   ]
  },
  {
   "cell_type": "code",
   "execution_count": 46,
   "metadata": {},
   "outputs": [
    {
     "data": {
      "text/plain": [
       "array([[0]])"
      ]
     },
     "execution_count": 46,
     "metadata": {},
     "output_type": "execute_result"
    }
   ],
   "source": [
    "model.predict_classes(new_data) # Model predicted value/class"
   ]
  },
  {
   "cell_type": "code",
   "execution_count": 47,
   "metadata": {},
   "outputs": [
    {
     "data": {
      "text/plain": [
       "0.0"
      ]
     },
     "execution_count": 47,
     "metadata": {},
     "output_type": "execute_result"
    }
   ],
   "source": [
    "df.iloc[rndm_id]['Class'] # Observed value/class"
   ]
  },
  {
   "cell_type": "code",
   "execution_count": null,
   "metadata": {},
   "outputs": [],
   "source": []
  },
  {
   "cell_type": "code",
   "execution_count": null,
   "metadata": {},
   "outputs": [],
   "source": []
  }
 ],
 "metadata": {
  "kernelspec": {
   "display_name": "Python 3",
   "language": "python",
   "name": "python3"
  },
  "language_info": {
   "codemirror_mode": {
    "name": "ipython",
    "version": 3
   },
   "file_extension": ".py",
   "mimetype": "text/x-python",
   "name": "python",
   "nbconvert_exporter": "python",
   "pygments_lexer": "ipython3",
   "version": "3.7.6"
  }
 },
 "nbformat": 4,
 "nbformat_minor": 4
}
