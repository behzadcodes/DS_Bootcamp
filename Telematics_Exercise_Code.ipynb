{
 "cells": [
  {
   "cell_type": "code",
   "execution_count": 85,
   "metadata": {},
   "outputs": [],
   "source": [
    "import pandas as pd\n",
    "import numpy as np\n",
    "import matplotlib.pyplot as plt\n",
    "import seaborn as sns\n",
    "import math\n",
    "\n",
    "%matplotlib inline\n",
    "sns.set_style('darkgrid')"
   ]
  },
  {
   "cell_type": "code",
   "execution_count": 86,
   "metadata": {},
   "outputs": [],
   "source": [
    "df = pd.read_csv('sample_trips.csv')"
   ]
  },
  {
   "cell_type": "code",
   "execution_count": 87,
   "metadata": {},
   "outputs": [
    {
     "data": {
      "text/html": [
       "<div>\n",
       "<style scoped>\n",
       "    .dataframe tbody tr th:only-of-type {\n",
       "        vertical-align: middle;\n",
       "    }\n",
       "\n",
       "    .dataframe tbody tr th {\n",
       "        vertical-align: top;\n",
       "    }\n",
       "\n",
       "    .dataframe thead th {\n",
       "        text-align: right;\n",
       "    }\n",
       "</style>\n",
       "<table border=\"1\" class=\"dataframe\">\n",
       "  <thead>\n",
       "    <tr style=\"text-align: right;\">\n",
       "      <th></th>\n",
       "      <th>trip_nb</th>\n",
       "      <th>local_dtm</th>\n",
       "      <th>latitude</th>\n",
       "      <th>longitude</th>\n",
       "    </tr>\n",
       "  </thead>\n",
       "  <tbody>\n",
       "    <tr>\n",
       "      <th>0</th>\n",
       "      <td>1</td>\n",
       "      <td>19MAY17:07:33:59</td>\n",
       "      <td>40.037952</td>\n",
       "      <td>-83.071342</td>\n",
       "    </tr>\n",
       "    <tr>\n",
       "      <th>1</th>\n",
       "      <td>1</td>\n",
       "      <td>19MAY17:07:34:01</td>\n",
       "      <td>40.038181</td>\n",
       "      <td>-83.071274</td>\n",
       "    </tr>\n",
       "    <tr>\n",
       "      <th>2</th>\n",
       "      <td>1</td>\n",
       "      <td>19MAY17:07:34:02</td>\n",
       "      <td>40.038349</td>\n",
       "      <td>-83.071304</td>\n",
       "    </tr>\n",
       "    <tr>\n",
       "      <th>3</th>\n",
       "      <td>1</td>\n",
       "      <td>19MAY17:07:34:03</td>\n",
       "      <td>40.038448</td>\n",
       "      <td>-83.071266</td>\n",
       "    </tr>\n",
       "    <tr>\n",
       "      <th>4</th>\n",
       "      <td>1</td>\n",
       "      <td>19MAY17:07:34:04</td>\n",
       "      <td>40.038551</td>\n",
       "      <td>-83.071236</td>\n",
       "    </tr>\n",
       "    <tr>\n",
       "      <th>5</th>\n",
       "      <td>1</td>\n",
       "      <td>19MAY17:07:34:06</td>\n",
       "      <td>40.038795</td>\n",
       "      <td>-83.071243</td>\n",
       "    </tr>\n",
       "    <tr>\n",
       "      <th>6</th>\n",
       "      <td>1</td>\n",
       "      <td>19MAY17:07:34:07</td>\n",
       "      <td>40.038895</td>\n",
       "      <td>-83.071236</td>\n",
       "    </tr>\n",
       "    <tr>\n",
       "      <th>7</th>\n",
       "      <td>1</td>\n",
       "      <td>19MAY17:07:34:08</td>\n",
       "      <td>40.039013</td>\n",
       "      <td>-83.071213</td>\n",
       "    </tr>\n",
       "    <tr>\n",
       "      <th>8</th>\n",
       "      <td>1</td>\n",
       "      <td>19MAY17:07:34:09</td>\n",
       "      <td>40.039116</td>\n",
       "      <td>-83.071205</td>\n",
       "    </tr>\n",
       "    <tr>\n",
       "      <th>9</th>\n",
       "      <td>1</td>\n",
       "      <td>19MAY17:07:34:10</td>\n",
       "      <td>40.039230</td>\n",
       "      <td>-83.071190</td>\n",
       "    </tr>\n",
       "  </tbody>\n",
       "</table>\n",
       "</div>"
      ],
      "text/plain": [
       "   trip_nb         local_dtm   latitude  longitude\n",
       "0        1  19MAY17:07:33:59  40.037952 -83.071342\n",
       "1        1  19MAY17:07:34:01  40.038181 -83.071274\n",
       "2        1  19MAY17:07:34:02  40.038349 -83.071304\n",
       "3        1  19MAY17:07:34:03  40.038448 -83.071266\n",
       "4        1  19MAY17:07:34:04  40.038551 -83.071236\n",
       "5        1  19MAY17:07:34:06  40.038795 -83.071243\n",
       "6        1  19MAY17:07:34:07  40.038895 -83.071236\n",
       "7        1  19MAY17:07:34:08  40.039013 -83.071213\n",
       "8        1  19MAY17:07:34:09  40.039116 -83.071205\n",
       "9        1  19MAY17:07:34:10  40.039230 -83.071190"
      ]
     },
     "execution_count": 87,
     "metadata": {},
     "output_type": "execute_result"
    }
   ],
   "source": [
    "df.head(10)"
   ]
  },
  {
   "cell_type": "code",
   "execution_count": 88,
   "metadata": {},
   "outputs": [
    {
     "name": "stdout",
     "output_type": "stream",
     "text": [
      "<class 'pandas.core.frame.DataFrame'>\n",
      "RangeIndex: 9687 entries, 0 to 9686\n",
      "Data columns (total 4 columns):\n",
      " #   Column     Non-Null Count  Dtype  \n",
      "---  ------     --------------  -----  \n",
      " 0   trip_nb    9687 non-null   int64  \n",
      " 1   local_dtm  9687 non-null   object \n",
      " 2   latitude   9687 non-null   float64\n",
      " 3   longitude  9687 non-null   float64\n",
      "dtypes: float64(2), int64(1), object(1)\n",
      "memory usage: 302.8+ KB\n"
     ]
    }
   ],
   "source": [
    "df.info()"
   ]
  },
  {
   "cell_type": "code",
   "execution_count": 89,
   "metadata": {},
   "outputs": [],
   "source": [
    "df = df.drop(df[df['latitude']==0].index)\n",
    "df = df.drop(df[df['longitude']==0].index)"
   ]
  },
  {
   "cell_type": "code",
   "execution_count": 90,
   "metadata": {},
   "outputs": [],
   "source": [
    "## Removing Lats-lons with sudden change in value during the same trip number\n",
    "for ii in reversed(range(len(df))):\n",
    "    if df['trip_nb'].iloc[ii] == df['trip_nb'].iloc[ii-1]:\n",
    "        if ((df['latitude'].iloc[ii] / df['latitude'].iloc[ii-1]) > 1.05) | ((df['latitude'].iloc[ii] / df['latitude'].iloc[ii-1]) < 0.95):\n",
    "            df.drop(index=ii-1,axis=0,inplace=True)\n",
    "            ii = ii+1"
   ]
  },
  {
   "cell_type": "code",
   "execution_count": 91,
   "metadata": {},
   "outputs": [
    {
     "name": "stdout",
     "output_type": "stream",
     "text": [
      "<class 'pandas.core.frame.DataFrame'>\n",
      "Int64Index: 9679 entries, 0 to 9686\n",
      "Data columns (total 4 columns):\n",
      " #   Column     Non-Null Count  Dtype  \n",
      "---  ------     --------------  -----  \n",
      " 0   trip_nb    9679 non-null   int64  \n",
      " 1   local_dtm  9679 non-null   object \n",
      " 2   latitude   9679 non-null   float64\n",
      " 3   longitude  9679 non-null   float64\n",
      "dtypes: float64(2), int64(1), object(1)\n",
      "memory usage: 378.1+ KB\n"
     ]
    }
   ],
   "source": [
    "df.info()"
   ]
  },
  {
   "cell_type": "code",
   "execution_count": 92,
   "metadata": {},
   "outputs": [
    {
     "data": {
      "text/plain": [
       "8     1658\n",
       "3     1210\n",
       "1     1109\n",
       "11     997\n",
       "5      984\n",
       "12     828\n",
       "6      676\n",
       "2      632\n",
       "9      552\n",
       "15     240\n",
       "16     178\n",
       "7      163\n",
       "14     133\n",
       "4      127\n",
       "10     102\n",
       "13      90\n",
       "Name: trip_nb, dtype: int64"
      ]
     },
     "execution_count": 92,
     "metadata": {},
     "output_type": "execute_result"
    }
   ],
   "source": [
    "df['trip_nb'].value_counts()"
   ]
  },
  {
   "cell_type": "code",
   "execution_count": 93,
   "metadata": {},
   "outputs": [],
   "source": [
    "def distance(lat1,lat2,lon1,lon2): # Distance in meters\n",
    "    dist = 6373*1000*math.acos(math.sin(math.radians(lat1))*math.sin(math.radians(lat2)) +\n",
    "                            math.cos(math.radians(lat1))*math.cos(math.radians(lat2))*math.cos(math.radians(lon1 - lon2)))\n",
    "    return dist"
   ]
  },
  {
   "cell_type": "code",
   "execution_count": 94,
   "metadata": {},
   "outputs": [
    {
     "data": {
      "text/plain": [
       "26.121790359398265"
      ]
     },
     "execution_count": 94,
     "metadata": {},
     "output_type": "execute_result"
    }
   ],
   "source": [
    "distance(40.037952,40.038181,-83.071342,-83.071274)"
   ]
  },
  {
   "cell_type": "code",
   "execution_count": 95,
   "metadata": {},
   "outputs": [],
   "source": [
    "df['dist'] = np.nan # Distance in meters\n",
    "df['time'] = np.nan # Time in seconds\n",
    "df['speed'] = np.nan # Speed in m/s\n",
    "df['datetime']=df['local_dtm'].apply(lambda date: '2020-01-02 '+date[-8:])\n",
    "df['datetime'] = pd.to_datetime(df['datetime'])"
   ]
  },
  {
   "cell_type": "code",
   "execution_count": 96,
   "metadata": {
    "scrolled": true
   },
   "outputs": [
    {
     "name": "stderr",
     "output_type": "stream",
     "text": [
      "C:\\Users\\uranu\\Anaconda3\\envs\\tf_env_gpu\\lib\\site-packages\\pandas\\core\\indexing.py:670: SettingWithCopyWarning: \n",
      "A value is trying to be set on a copy of a slice from a DataFrame\n",
      "\n",
      "See the caveats in the documentation: https://pandas.pydata.org/pandas-docs/stable/user_guide/indexing.html#returning-a-view-versus-a-copy\n",
      "  self._setitem_with_indexer(indexer, value)\n",
      "C:\\Users\\uranu\\Anaconda3\\envs\\tf_env_gpu\\lib\\site-packages\\ipykernel_launcher.py:14: RuntimeWarning: divide by zero encountered in double_scalars\n",
      "  \n"
     ]
    }
   ],
   "source": [
    "df['dist'].iloc[0]=0\n",
    "df['time'].iloc[0]=0\n",
    "df['speed'].iloc[0]=0\n",
    "for ii in range(1,len(df)):\n",
    "    if (df['latitude'].iloc[ii-1] == df['latitude'].iloc[ii]) & (df['longitude'].iloc[ii-1] == df['longitude'].iloc[ii]):\n",
    "        df['dist'].iloc[ii] = 0 # If the car has stopped\n",
    "    elif df['trip_nb'].iloc[ii] != df['trip_nb'].iloc[ii]:\n",
    "        df['dist'].iloc[ii] = 0 # When switching to a new trip number\n",
    "        df['time'].iloc[ii] = 0\n",
    "        df['speed'].iloc[ii] = 0\n",
    "    else:\n",
    "        df['dist'].iloc[ii] = distance(df['latitude'].iloc[ii-1],df['latitude'].iloc[ii],df['longitude'].iloc[ii-1],df['longitude'].iloc[ii])\n",
    "        df['time'].iloc[ii] = int((df['datetime'].iloc[ii]-df['datetime'].iloc[ii-1]) / np.timedelta64(1,'s'))\n",
    "        df['speed'].iloc[ii] = df['dist'].iloc[ii] / df['time'].iloc[ii]\n",
    "\n",
    "df.drop('datetime',axis=1,inplace=True)"
   ]
  },
  {
   "cell_type": "code",
   "execution_count": 97,
   "metadata": {},
   "outputs": [],
   "source": [
    "df = df.drop(df[df['time']==0].index)"
   ]
  },
  {
   "cell_type": "code",
   "execution_count": 99,
   "metadata": {},
   "outputs": [],
   "source": [
    "df['accel'] = np.nan # Acceleration in m2/s\n",
    "df['accel'].iloc[0]=0\n",
    "for ii in range(1,len(df)):\n",
    "    if df['trip_nb'].iloc[ii] != df['trip_nb'].iloc[ii]:\n",
    "        df['accel'].iloc[ii] = 0 # When switching to a new trip number\n",
    "    else:\n",
    "        df['accel'].iloc[ii] = (df['speed'].iloc[ii] - df['speed'].iloc[ii-1]) / df['time'].iloc[ii]\n"
   ]
  },
  {
   "cell_type": "code",
   "execution_count": 100,
   "metadata": {
    "scrolled": false
   },
   "outputs": [
    {
     "data": {
      "text/html": [
       "<div>\n",
       "<style scoped>\n",
       "    .dataframe tbody tr th:only-of-type {\n",
       "        vertical-align: middle;\n",
       "    }\n",
       "\n",
       "    .dataframe tbody tr th {\n",
       "        vertical-align: top;\n",
       "    }\n",
       "\n",
       "    .dataframe thead th {\n",
       "        text-align: right;\n",
       "    }\n",
       "</style>\n",
       "<table border=\"1\" class=\"dataframe\">\n",
       "  <thead>\n",
       "    <tr style=\"text-align: right;\">\n",
       "      <th></th>\n",
       "      <th>trip_nb</th>\n",
       "      <th>local_dtm</th>\n",
       "      <th>latitude</th>\n",
       "      <th>longitude</th>\n",
       "      <th>dist</th>\n",
       "      <th>time</th>\n",
       "      <th>speed</th>\n",
       "      <th>accel</th>\n",
       "    </tr>\n",
       "  </thead>\n",
       "  <tbody>\n",
       "    <tr>\n",
       "      <th>1</th>\n",
       "      <td>1</td>\n",
       "      <td>19MAY17:07:34:01</td>\n",
       "      <td>40.038181</td>\n",
       "      <td>-83.071274</td>\n",
       "      <td>26.121790</td>\n",
       "      <td>2.0</td>\n",
       "      <td>13.060895</td>\n",
       "      <td>0.000000</td>\n",
       "    </tr>\n",
       "    <tr>\n",
       "      <th>2</th>\n",
       "      <td>1</td>\n",
       "      <td>19MAY17:07:34:02</td>\n",
       "      <td>40.038349</td>\n",
       "      <td>-83.071304</td>\n",
       "      <td>18.860796</td>\n",
       "      <td>1.0</td>\n",
       "      <td>18.860796</td>\n",
       "      <td>5.799901</td>\n",
       "    </tr>\n",
       "    <tr>\n",
       "      <th>3</th>\n",
       "      <td>1</td>\n",
       "      <td>19MAY17:07:34:03</td>\n",
       "      <td>40.038448</td>\n",
       "      <td>-83.071266</td>\n",
       "      <td>11.477034</td>\n",
       "      <td>1.0</td>\n",
       "      <td>11.477034</td>\n",
       "      <td>-7.383761</td>\n",
       "    </tr>\n",
       "    <tr>\n",
       "      <th>4</th>\n",
       "      <td>1</td>\n",
       "      <td>19MAY17:07:34:04</td>\n",
       "      <td>40.038551</td>\n",
       "      <td>-83.071236</td>\n",
       "      <td>11.738086</td>\n",
       "      <td>1.0</td>\n",
       "      <td>11.738086</td>\n",
       "      <td>0.261052</td>\n",
       "    </tr>\n",
       "    <tr>\n",
       "      <th>5</th>\n",
       "      <td>1</td>\n",
       "      <td>19MAY17:07:34:06</td>\n",
       "      <td>40.038795</td>\n",
       "      <td>-83.071243</td>\n",
       "      <td>27.146567</td>\n",
       "      <td>2.0</td>\n",
       "      <td>13.573284</td>\n",
       "      <td>0.917599</td>\n",
       "    </tr>\n",
       "    <tr>\n",
       "      <th>6</th>\n",
       "      <td>1</td>\n",
       "      <td>19MAY17:07:34:07</td>\n",
       "      <td>40.038895</td>\n",
       "      <td>-83.071236</td>\n",
       "      <td>11.138479</td>\n",
       "      <td>1.0</td>\n",
       "      <td>11.138479</td>\n",
       "      <td>-2.434805</td>\n",
       "    </tr>\n",
       "    <tr>\n",
       "      <th>7</th>\n",
       "      <td>1</td>\n",
       "      <td>19MAY17:07:34:08</td>\n",
       "      <td>40.039013</td>\n",
       "      <td>-83.071213</td>\n",
       "      <td>13.270672</td>\n",
       "      <td>1.0</td>\n",
       "      <td>13.270672</td>\n",
       "      <td>2.132193</td>\n",
       "    </tr>\n",
       "    <tr>\n",
       "      <th>8</th>\n",
       "      <td>1</td>\n",
       "      <td>19MAY17:07:34:09</td>\n",
       "      <td>40.039116</td>\n",
       "      <td>-83.071205</td>\n",
       "      <td>11.477034</td>\n",
       "      <td>1.0</td>\n",
       "      <td>11.477034</td>\n",
       "      <td>-1.793638</td>\n",
       "    </tr>\n",
       "    <tr>\n",
       "      <th>9</th>\n",
       "      <td>1</td>\n",
       "      <td>19MAY17:07:34:10</td>\n",
       "      <td>40.039230</td>\n",
       "      <td>-83.071190</td>\n",
       "      <td>12.744444</td>\n",
       "      <td>1.0</td>\n",
       "      <td>12.744444</td>\n",
       "      <td>1.267410</td>\n",
       "    </tr>\n",
       "    <tr>\n",
       "      <th>10</th>\n",
       "      <td>1</td>\n",
       "      <td>19MAY17:07:34:12</td>\n",
       "      <td>40.039410</td>\n",
       "      <td>-83.071152</td>\n",
       "      <td>20.281220</td>\n",
       "      <td>2.0</td>\n",
       "      <td>10.140610</td>\n",
       "      <td>-1.301917</td>\n",
       "    </tr>\n",
       "  </tbody>\n",
       "</table>\n",
       "</div>"
      ],
      "text/plain": [
       "    trip_nb         local_dtm   latitude  longitude       dist  time  \\\n",
       "1         1  19MAY17:07:34:01  40.038181 -83.071274  26.121790   2.0   \n",
       "2         1  19MAY17:07:34:02  40.038349 -83.071304  18.860796   1.0   \n",
       "3         1  19MAY17:07:34:03  40.038448 -83.071266  11.477034   1.0   \n",
       "4         1  19MAY17:07:34:04  40.038551 -83.071236  11.738086   1.0   \n",
       "5         1  19MAY17:07:34:06  40.038795 -83.071243  27.146567   2.0   \n",
       "6         1  19MAY17:07:34:07  40.038895 -83.071236  11.138479   1.0   \n",
       "7         1  19MAY17:07:34:08  40.039013 -83.071213  13.270672   1.0   \n",
       "8         1  19MAY17:07:34:09  40.039116 -83.071205  11.477034   1.0   \n",
       "9         1  19MAY17:07:34:10  40.039230 -83.071190  12.744444   1.0   \n",
       "10        1  19MAY17:07:34:12  40.039410 -83.071152  20.281220   2.0   \n",
       "\n",
       "        speed     accel  \n",
       "1   13.060895  0.000000  \n",
       "2   18.860796  5.799901  \n",
       "3   11.477034 -7.383761  \n",
       "4   11.738086  0.261052  \n",
       "5   13.573284  0.917599  \n",
       "6   11.138479 -2.434805  \n",
       "7   13.270672  2.132193  \n",
       "8   11.477034 -1.793638  \n",
       "9   12.744444  1.267410  \n",
       "10  10.140610 -1.301917  "
      ]
     },
     "execution_count": 100,
     "metadata": {},
     "output_type": "execute_result"
    }
   ],
   "source": [
    "df.head(10)"
   ]
  },
  {
   "cell_type": "code",
   "execution_count": 101,
   "metadata": {},
   "outputs": [
    {
     "data": {
      "text/plain": [
       "<matplotlib.axes._subplots.AxesSubplot at 0x2255d016988>"
      ]
     },
     "execution_count": 101,
     "metadata": {},
     "output_type": "execute_result"
    },
    {
     "data": {
      "image/png": "[encoded data removed]",
      "text/plain": [
       "<Figure size 432x288 with 1 Axes>"
      ]
     },
     "metadata": {},
     "output_type": "display_data"
    }
   ],
   "source": [
    "plt.figure()\n",
    "plt.title('Distance traveled per trip in Kilometers', fontsize=14)\n",
    "(df.groupby('trip_nb')['dist'].sum() / 1000 ).plot(kind='bar')"
   ]
  },
  {
   "cell_type": "code",
   "execution_count": 102,
   "metadata": {
    "scrolled": true
   },
   "outputs": [
    {
     "data": {
      "text/plain": [
       "<matplotlib.axes._subplots.AxesSubplot at 0x2255d151188>"
      ]
     },
     "execution_count": 102,
     "metadata": {},
     "output_type": "execute_result"
    },
    {
     "data": {
      "image/png": "[encoded data removed]",
      "text/plain": [
       "<Figure size 432x288 with 1 Axes>"
      ]
     },
     "metadata": {},
     "output_type": "display_data"
    }
   ],
   "source": [
    "plt.figure()\n",
    "plt.title('Distance traveled per trip in Miles', fontsize=14)\n",
    "(df.groupby('trip_nb')['dist'].sum() / 1609.34 ).plot(kind='bar')"
   ]
  },
  {
   "cell_type": "markdown",
   "metadata": {},
   "source": [
    "# Hard Accelerations and Hard Brakes\n",
    "\n",
    "##### Hard Acceleration if accelaration is greater than mean+3*Std.Dev of positive accelerations\n",
    "##### Hard Brake if accelaration is less than mean+3*Std.Dev of negative accelerations"
   ]
  },
  {
   "cell_type": "code",
   "execution_count": 106,
   "metadata": {},
   "outputs": [
    {
     "data": {
      "text/plain": [
       "(10.70509033236763, -10.7272137597666)"
      ]
     },
     "execution_count": 106,
     "metadata": {},
     "output_type": "execute_result"
    }
   ],
   "source": [
    "thr_pos = df[df['accel']>0]['accel'].mean()+3*df[df['accel']>0]['accel'].std()\n",
    "thr_neg = df[df['accel']<0]['accel'].mean()-3*df[df['accel']>0]['accel'].std()\n",
    "thr_pos, thr_neg"
   ]
  },
  {
   "cell_type": "code",
   "execution_count": 107,
   "metadata": {},
   "outputs": [],
   "source": [
    "df['HardAccelerations'] = df['accel'].apply(lambda accel: 1 if accel > thr_pos else 0)\n",
    "df['HardBrakes'] = df['accel'].apply(lambda accel: 1 if accel < thr_neg else 0)"
   ]
  },
  {
   "cell_type": "code",
   "execution_count": 150,
   "metadata": {},
   "outputs": [
    {
     "data": {
      "text/plain": [
       "<matplotlib.axes._subplots.AxesSubplot at 0x22569781a08>"
      ]
     },
     "execution_count": 150,
     "metadata": {},
     "output_type": "execute_result"
    },
    {
     "data": {
      "image/png": "[encoded data removed]",
      "text/plain": [
       "<Figure size 432x288 with 1 Axes>"
      ]
     },
     "metadata": {},
     "output_type": "display_data"
    }
   ],
   "source": [
    "plt.figure()\n",
    "plt.title('Number of Hard Accelerations per trip', fontsize=14)\n",
    "sns.countplot(x='trip_nb', data=df[df['HardAccelerations']==1], order = df['trip_nb'].unique())"
   ]
  },
  {
   "cell_type": "code",
   "execution_count": 151,
   "metadata": {},
   "outputs": [
    {
     "data": {
      "text/plain": [
       "<matplotlib.axes._subplots.AxesSubplot at 0x22569819888>"
      ]
     },
     "execution_count": 151,
     "metadata": {},
     "output_type": "execute_result"
    },
    {
     "data": {
      "image/png": "[encoded data removed]",
      "text/plain": [
       "<Figure size 432x288 with 1 Axes>"
      ]
     },
     "metadata": {},
     "output_type": "display_data"
    }
   ],
   "source": [
    "plt.figure()\n",
    "plt.title('Number of Hard Brakes per trip', fontsize=14)\n",
    "sns.countplot(x='trip_nb', data=df[df['HardBrakes']==1], order=df['trip_nb'].unique())"
   ]
  },
  {
   "cell_type": "code",
   "execution_count": null,
   "metadata": {},
   "outputs": [],
   "source": []
  },
  {
   "cell_type": "markdown",
   "metadata": {},
   "source": [
    "# Part 2 "
   ]
  },
  {
   "cell_type": "code",
   "execution_count": 128,
   "metadata": {},
   "outputs": [
    {
     "data": {
      "text/html": [
       "<div>\n",
       "<style scoped>\n",
       "    .dataframe tbody tr th:only-of-type {\n",
       "        vertical-align: middle;\n",
       "    }\n",
       "\n",
       "    .dataframe tbody tr th {\n",
       "        vertical-align: top;\n",
       "    }\n",
       "\n",
       "    .dataframe thead th {\n",
       "        text-align: right;\n",
       "    }\n",
       "</style>\n",
       "<table border=\"1\" class=\"dataframe\">\n",
       "  <thead>\n",
       "    <tr style=\"text-align: right;\">\n",
       "      <th></th>\n",
       "      <th>Vehicle</th>\n",
       "      <th>Days</th>\n",
       "      <th>Distance</th>\n",
       "      <th>HardBrakes</th>\n",
       "      <th>HardAccelerations</th>\n",
       "      <th>NightTime_Pct</th>\n",
       "      <th>VehicleType</th>\n",
       "      <th>Loss</th>\n",
       "    </tr>\n",
       "  </thead>\n",
       "  <tbody>\n",
       "    <tr>\n",
       "      <th>0</th>\n",
       "      <td>1</td>\n",
       "      <td>365</td>\n",
       "      <td>13114</td>\n",
       "      <td>152</td>\n",
       "      <td>56</td>\n",
       "      <td>0.005</td>\n",
       "      <td>SUV</td>\n",
       "      <td>0</td>\n",
       "    </tr>\n",
       "    <tr>\n",
       "      <th>1</th>\n",
       "      <td>2</td>\n",
       "      <td>365</td>\n",
       "      <td>18707</td>\n",
       "      <td>147</td>\n",
       "      <td>1</td>\n",
       "      <td>0.010</td>\n",
       "      <td>SUV</td>\n",
       "      <td>0</td>\n",
       "    </tr>\n",
       "    <tr>\n",
       "      <th>2</th>\n",
       "      <td>3</td>\n",
       "      <td>365</td>\n",
       "      <td>16659</td>\n",
       "      <td>151</td>\n",
       "      <td>127</td>\n",
       "      <td>0.019</td>\n",
       "      <td>Truck</td>\n",
       "      <td>0</td>\n",
       "    </tr>\n",
       "    <tr>\n",
       "      <th>3</th>\n",
       "      <td>4</td>\n",
       "      <td>365</td>\n",
       "      <td>13330</td>\n",
       "      <td>126</td>\n",
       "      <td>147</td>\n",
       "      <td>0.000</td>\n",
       "      <td>SUV</td>\n",
       "      <td>1</td>\n",
       "    </tr>\n",
       "    <tr>\n",
       "      <th>4</th>\n",
       "      <td>5</td>\n",
       "      <td>365</td>\n",
       "      <td>22533</td>\n",
       "      <td>10</td>\n",
       "      <td>11</td>\n",
       "      <td>0.001</td>\n",
       "      <td>Truck</td>\n",
       "      <td>0</td>\n",
       "    </tr>\n",
       "  </tbody>\n",
       "</table>\n",
       "</div>"
      ],
      "text/plain": [
       "   Vehicle  Days  Distance  HardBrakes  HardAccelerations  NightTime_Pct  \\\n",
       "0        1   365     13114         152                 56          0.005   \n",
       "1        2   365     18707         147                  1          0.010   \n",
       "2        3   365     16659         151                127          0.019   \n",
       "3        4   365     13330         126                147          0.000   \n",
       "4        5   365     22533          10                 11          0.001   \n",
       "\n",
       "  VehicleType  Loss  \n",
       "0         SUV     0  \n",
       "1         SUV     0  \n",
       "2       Truck     0  \n",
       "3         SUV     1  \n",
       "4       Truck     0  "
      ]
     },
     "execution_count": 128,
     "metadata": {},
     "output_type": "execute_result"
    }
   ],
   "source": [
    "df2 = pd.read_csv('simulated_summary_total.csv')\n",
    "df2.head()"
   ]
  },
  {
   "cell_type": "code",
   "execution_count": 182,
   "metadata": {},
   "outputs": [
    {
     "data": {
      "text/plain": [
       "0    25969\n",
       "1     4031\n",
       "Name: Loss, dtype: int64"
      ]
     },
     "execution_count": 182,
     "metadata": {},
     "output_type": "execute_result"
    }
   ],
   "source": [
    "df2['Loss'].value_counts()"
   ]
  },
  {
   "cell_type": "code",
   "execution_count": 183,
   "metadata": {},
   "outputs": [
    {
     "data": {
      "text/plain": [
       "<matplotlib.axes._subplots.AxesSubplot at 0x2256afa9688>"
      ]
     },
     "execution_count": 183,
     "metadata": {},
     "output_type": "execute_result"
    },
    {
     "data": {
      "image/png": "[encoded data removed]",
      "text/plain": [
       "<Figure size 576x288 with 1 Axes>"
      ]
     },
     "metadata": {},
     "output_type": "display_data"
    }
   ],
   "source": [
    "plt.figure(figsize=(8,4))\n",
    "plt.title('Loss Indicator for each vehicle body type', fontsize=16)\n",
    "sns.countplot(x='VehicleType', data=df2, hue='Loss')"
   ]
  },
  {
   "cell_type": "markdown",
   "metadata": {},
   "source": [
    "## SUVs and Trucks have higher chance of incidents, but the difference is not significant"
   ]
  },
  {
   "cell_type": "code",
   "execution_count": 181,
   "metadata": {},
   "outputs": [
    {
     "data": {
      "text/plain": [
       "<matplotlib.axes._subplots.AxesSubplot at 0x225650d6d08>"
      ]
     },
     "execution_count": 181,
     "metadata": {},
     "output_type": "execute_result"
    },
    {
     "data": {
      "image/png": "[encoded data removed]",
      "text/plain": [
       "<Figure size 864x360 with 1 Axes>"
      ]
     },
     "metadata": {},
     "output_type": "display_data"
    }
   ],
   "source": [
    "loss_1 = df2[df2['Loss']==1].groupby('VehicleType').count()['Loss']\n",
    "loss_all = df2.groupby('VehicleType').count()['Loss']\n",
    "\n",
    "plt.figure(figsize=(12,5))\n",
    "plt.title('Percentage of incidents per vehicle body type', fontsize=18)\n",
    "((loss_1 / loss_all)*100).plot(kind='bar')"
   ]
  },
  {
   "cell_type": "code",
   "execution_count": 130,
   "metadata": {},
   "outputs": [
    {
     "data": {
      "text/plain": [
       "365    30000\n",
       "Name: Days, dtype: int64"
      ]
     },
     "execution_count": 130,
     "metadata": {},
     "output_type": "execute_result"
    }
   ],
   "source": [
    "df2['Days'].value_counts() # All the same input for Days column"
   ]
  },
  {
   "cell_type": "code",
   "execution_count": 162,
   "metadata": {},
   "outputs": [],
   "source": [
    "df2.drop(['Vehicle','Days'], axis=1, inplace=True)"
   ]
  },
  {
   "cell_type": "markdown",
   "metadata": {},
   "source": [
    "### Hard Acceleration has more correlation with loss than Hard Brakes"
   ]
  },
  {
   "cell_type": "code",
   "execution_count": 170,
   "metadata": {},
   "outputs": [
    {
     "data": {
      "text/plain": [
       "<matplotlib.axes._subplots.AxesSubplot at 0x22568167108>"
      ]
     },
     "execution_count": 170,
     "metadata": {},
     "output_type": "execute_result"
    },
    {
     "data": {
      "image/png": "[encoded data removed]",
      "text/plain": [
       "<Figure size 576x288 with 1 Axes>"
      ]
     },
     "metadata": {},
     "output_type": "display_data"
    }
   ],
   "source": [
    "plt.figure(figsize=(8,4))\n",
    "plt.title('Correlation of each feature with the Loss Indicator', fontsize=16)\n",
    "plt.xticks(fontsize=14)\n",
    "df2.corr()['Loss'][:-1].plot(kind='bar')"
   ]
  },
  {
   "cell_type": "code",
   "execution_count": null,
   "metadata": {},
   "outputs": [],
   "source": []
  },
  {
   "cell_type": "code",
   "execution_count": 110,
   "metadata": {},
   "outputs": [],
   "source": [
    "import tensorflow as tf\n",
    "from tensorflow.keras.models import Sequential\n",
    "from tensorflow.keras.layers import Dense, Dropout\n",
    "from tensorflow.keras.callbacks import EarlyStopping"
   ]
  },
  {
   "cell_type": "code",
   "execution_count": 111,
   "metadata": {},
   "outputs": [],
   "source": [
    "from sklearn.model_selection import train_test_split\n",
    "from sklearn.preprocessing import MinMaxScaler\n",
    "from sklearn.metrics import mean_absolute_error, mean_squared_error, explained_variance_score\n",
    "from sklearn.metrics import classification_report, confusion_matrix"
   ]
  },
  {
   "cell_type": "markdown",
   "metadata": {},
   "source": [
    "### One-hot encoding of the categorical features (using dummy variables)"
   ]
  },
  {
   "cell_type": "code",
   "execution_count": 129,
   "metadata": {},
   "outputs": [],
   "source": [
    "df_model = df2.copy()"
   ]
  },
  {
   "cell_type": "code",
   "execution_count": 132,
   "metadata": {},
   "outputs": [],
   "source": [
    "dummies = pd.get_dummies(df_model['VehicleType'], drop_first=True)"
   ]
  },
  {
   "cell_type": "code",
   "execution_count": 133,
   "metadata": {},
   "outputs": [
    {
     "data": {
      "text/html": [
       "<div>\n",
       "<style scoped>\n",
       "    .dataframe tbody tr th:only-of-type {\n",
       "        vertical-align: middle;\n",
       "    }\n",
       "\n",
       "    .dataframe tbody tr th {\n",
       "        vertical-align: top;\n",
       "    }\n",
       "\n",
       "    .dataframe thead th {\n",
       "        text-align: right;\n",
       "    }\n",
       "</style>\n",
       "<table border=\"1\" class=\"dataframe\">\n",
       "  <thead>\n",
       "    <tr style=\"text-align: right;\">\n",
       "      <th></th>\n",
       "      <th>Distance</th>\n",
       "      <th>HardBrakes</th>\n",
       "      <th>HardAccelerations</th>\n",
       "      <th>NightTime_Pct</th>\n",
       "      <th>Loss</th>\n",
       "      <th>Minivan</th>\n",
       "      <th>SUV</th>\n",
       "      <th>Truck</th>\n",
       "    </tr>\n",
       "  </thead>\n",
       "  <tbody>\n",
       "    <tr>\n",
       "      <th>0</th>\n",
       "      <td>13114</td>\n",
       "      <td>152</td>\n",
       "      <td>56</td>\n",
       "      <td>0.005</td>\n",
       "      <td>0</td>\n",
       "      <td>0</td>\n",
       "      <td>1</td>\n",
       "      <td>0</td>\n",
       "    </tr>\n",
       "    <tr>\n",
       "      <th>1</th>\n",
       "      <td>18707</td>\n",
       "      <td>147</td>\n",
       "      <td>1</td>\n",
       "      <td>0.010</td>\n",
       "      <td>0</td>\n",
       "      <td>0</td>\n",
       "      <td>1</td>\n",
       "      <td>0</td>\n",
       "    </tr>\n",
       "    <tr>\n",
       "      <th>2</th>\n",
       "      <td>16659</td>\n",
       "      <td>151</td>\n",
       "      <td>127</td>\n",
       "      <td>0.019</td>\n",
       "      <td>0</td>\n",
       "      <td>0</td>\n",
       "      <td>0</td>\n",
       "      <td>1</td>\n",
       "    </tr>\n",
       "    <tr>\n",
       "      <th>3</th>\n",
       "      <td>13330</td>\n",
       "      <td>126</td>\n",
       "      <td>147</td>\n",
       "      <td>0.000</td>\n",
       "      <td>1</td>\n",
       "      <td>0</td>\n",
       "      <td>1</td>\n",
       "      <td>0</td>\n",
       "    </tr>\n",
       "    <tr>\n",
       "      <th>4</th>\n",
       "      <td>22533</td>\n",
       "      <td>10</td>\n",
       "      <td>11</td>\n",
       "      <td>0.001</td>\n",
       "      <td>0</td>\n",
       "      <td>0</td>\n",
       "      <td>0</td>\n",
       "      <td>1</td>\n",
       "    </tr>\n",
       "  </tbody>\n",
       "</table>\n",
       "</div>"
      ],
      "text/plain": [
       "   Distance  HardBrakes  HardAccelerations  NightTime_Pct  Loss  Minivan  SUV  \\\n",
       "0     13114         152                 56          0.005     0        0    1   \n",
       "1     18707         147                  1          0.010     0        0    1   \n",
       "2     16659         151                127          0.019     0        0    0   \n",
       "3     13330         126                147          0.000     1        0    1   \n",
       "4     22533          10                 11          0.001     0        0    0   \n",
       "\n",
       "   Truck  \n",
       "0      0  \n",
       "1      0  \n",
       "2      1  \n",
       "3      0  \n",
       "4      1  "
      ]
     },
     "execution_count": 133,
     "metadata": {},
     "output_type": "execute_result"
    }
   ],
   "source": [
    "df_model = pd.concat([df_model.drop('VehicleType',axis=1),dummies],axis=1)\n",
    "df_model.head()"
   ]
  },
  {
   "cell_type": "code",
   "execution_count": null,
   "metadata": {},
   "outputs": [],
   "source": []
  },
  {
   "cell_type": "code",
   "execution_count": 192,
   "metadata": {},
   "outputs": [],
   "source": [
    "df_model = df2.copy()"
   ]
  },
  {
   "cell_type": "code",
   "execution_count": 194,
   "metadata": {},
   "outputs": [],
   "source": [
    "df_model['HardBrakes_ratio'] = df_model['HardBrakes']/df_model['Distance']\n",
    "df_model['HardAccelerations_ratio'] = df_model['HardAccelerations']/df_model['Distance']"
   ]
  },
  {
   "cell_type": "code",
   "execution_count": 195,
   "metadata": {},
   "outputs": [
    {
     "data": {
      "text/html": [
       "<div>\n",
       "<style scoped>\n",
       "    .dataframe tbody tr th:only-of-type {\n",
       "        vertical-align: middle;\n",
       "    }\n",
       "\n",
       "    .dataframe tbody tr th {\n",
       "        vertical-align: top;\n",
       "    }\n",
       "\n",
       "    .dataframe thead th {\n",
       "        text-align: right;\n",
       "    }\n",
       "</style>\n",
       "<table border=\"1\" class=\"dataframe\">\n",
       "  <thead>\n",
       "    <tr style=\"text-align: right;\">\n",
       "      <th></th>\n",
       "      <th>Distance</th>\n",
       "      <th>HardBrakes</th>\n",
       "      <th>HardAccelerations</th>\n",
       "      <th>NightTime_Pct</th>\n",
       "      <th>VehicleType</th>\n",
       "      <th>Loss</th>\n",
       "      <th>HardBrakes_ratio</th>\n",
       "      <th>HardAccelerations_ratio</th>\n",
       "    </tr>\n",
       "  </thead>\n",
       "  <tbody>\n",
       "    <tr>\n",
       "      <th>0</th>\n",
       "      <td>13114</td>\n",
       "      <td>152</td>\n",
       "      <td>56</td>\n",
       "      <td>0.005</td>\n",
       "      <td>SUV</td>\n",
       "      <td>0</td>\n",
       "      <td>0.011591</td>\n",
       "      <td>0.004270</td>\n",
       "    </tr>\n",
       "    <tr>\n",
       "      <th>1</th>\n",
       "      <td>18707</td>\n",
       "      <td>147</td>\n",
       "      <td>1</td>\n",
       "      <td>0.010</td>\n",
       "      <td>SUV</td>\n",
       "      <td>0</td>\n",
       "      <td>0.007858</td>\n",
       "      <td>0.000053</td>\n",
       "    </tr>\n",
       "    <tr>\n",
       "      <th>2</th>\n",
       "      <td>16659</td>\n",
       "      <td>151</td>\n",
       "      <td>127</td>\n",
       "      <td>0.019</td>\n",
       "      <td>Truck</td>\n",
       "      <td>0</td>\n",
       "      <td>0.009064</td>\n",
       "      <td>0.007624</td>\n",
       "    </tr>\n",
       "    <tr>\n",
       "      <th>3</th>\n",
       "      <td>13330</td>\n",
       "      <td>126</td>\n",
       "      <td>147</td>\n",
       "      <td>0.000</td>\n",
       "      <td>SUV</td>\n",
       "      <td>1</td>\n",
       "      <td>0.009452</td>\n",
       "      <td>0.011028</td>\n",
       "    </tr>\n",
       "    <tr>\n",
       "      <th>4</th>\n",
       "      <td>22533</td>\n",
       "      <td>10</td>\n",
       "      <td>11</td>\n",
       "      <td>0.001</td>\n",
       "      <td>Truck</td>\n",
       "      <td>0</td>\n",
       "      <td>0.000444</td>\n",
       "      <td>0.000488</td>\n",
       "    </tr>\n",
       "  </tbody>\n",
       "</table>\n",
       "</div>"
      ],
      "text/plain": [
       "   Distance  HardBrakes  HardAccelerations  NightTime_Pct VehicleType  Loss  \\\n",
       "0     13114         152                 56          0.005         SUV     0   \n",
       "1     18707         147                  1          0.010         SUV     0   \n",
       "2     16659         151                127          0.019       Truck     0   \n",
       "3     13330         126                147          0.000         SUV     1   \n",
       "4     22533          10                 11          0.001       Truck     0   \n",
       "\n",
       "   HardBrakes_ratio  HardAccelerations_ratio  \n",
       "0          0.011591                 0.004270  \n",
       "1          0.007858                 0.000053  \n",
       "2          0.009064                 0.007624  \n",
       "3          0.009452                 0.011028  \n",
       "4          0.000444                 0.000488  "
      ]
     },
     "execution_count": 195,
     "metadata": {},
     "output_type": "execute_result"
    }
   ],
   "source": [
    "df_model.head()"
   ]
  },
  {
   "cell_type": "code",
   "execution_count": 127,
   "metadata": {},
   "outputs": [],
   "source": []
  },
  {
   "cell_type": "markdown",
   "metadata": {},
   "source": [
    "## Spliting Train/Test Data"
   ]
  },
  {
   "cell_type": "code",
   "execution_count": 210,
   "metadata": {},
   "outputs": [],
   "source": [
    "X = df_model[['Distance', 'HardBrakes_ratio','HardAccelerations_ratio','NightTime_Pct']].values\n",
    "y = df_model['Loss'].values"
   ]
  },
  {
   "cell_type": "code",
   "execution_count": 233,
   "metadata": {},
   "outputs": [],
   "source": [
    "X_train, X_test, y_train, y_test = train_test_split(X, y, test_size=0.25, random_state=42)"
   ]
  },
  {
   "cell_type": "code",
   "execution_count": 234,
   "metadata": {},
   "outputs": [],
   "source": [
    "scaler = MinMaxScaler()\n",
    "X_train = scaler.fit_transform(X_train)\n",
    "X_test = scaler.transform(X_test)"
   ]
  },
  {
   "cell_type": "code",
   "execution_count": 235,
   "metadata": {},
   "outputs": [
    {
     "data": {
      "text/plain": [
       "(22500, 4)"
      ]
     },
     "execution_count": 235,
     "metadata": {},
     "output_type": "execute_result"
    }
   ],
   "source": [
    "X_train.shape"
   ]
  },
  {
   "cell_type": "code",
   "execution_count": null,
   "metadata": {},
   "outputs": [],
   "source": []
  },
  {
   "cell_type": "markdown",
   "metadata": {},
   "source": [
    "# Training a Logistic Regression Model"
   ]
  },
  {
   "cell_type": "code",
   "execution_count": 236,
   "metadata": {},
   "outputs": [],
   "source": [
    "from sklearn.linear_model import LogisticRegression"
   ]
  },
  {
   "cell_type": "code",
   "execution_count": 237,
   "metadata": {},
   "outputs": [
    {
     "data": {
      "text/plain": [
       "LogisticRegression(C=1.0, class_weight=None, dual=False, fit_intercept=True,\n",
       "                   intercept_scaling=1, l1_ratio=None, max_iter=100,\n",
       "                   multi_class='auto', n_jobs=None, penalty='l2',\n",
       "                   random_state=None, solver='lbfgs', tol=0.0001, verbose=0,\n",
       "                   warm_start=False)"
      ]
     },
     "execution_count": 237,
     "metadata": {},
     "output_type": "execute_result"
    }
   ],
   "source": [
    "logmodel = LogisticRegression()\n",
    "\n",
    "logmodel.fit(X_train, y_train)"
   ]
  },
  {
   "cell_type": "code",
   "execution_count": 238,
   "metadata": {},
   "outputs": [],
   "source": [
    "predictions_log = logmodel.predict(X_test)"
   ]
  },
  {
   "cell_type": "code",
   "execution_count": 239,
   "metadata": {
    "scrolled": true
   },
   "outputs": [
    {
     "name": "stdout",
     "output_type": "stream",
     "text": [
      "              precision    recall  f1-score   support\n",
      "\n",
      "           0       0.87      1.00      0.93      6512\n",
      "           1       0.00      0.00      0.00       988\n",
      "\n",
      "    accuracy                           0.87      7500\n",
      "   macro avg       0.43      0.50      0.46      7500\n",
      "weighted avg       0.75      0.87      0.81      7500\n",
      "\n",
      "\n",
      "\n",
      "[[6512    0]\n",
      " [ 988    0]]\n"
     ]
    },
    {
     "name": "stderr",
     "output_type": "stream",
     "text": [
      "C:\\Users\\uranu\\Anaconda3\\envs\\tf_env_gpu\\lib\\site-packages\\sklearn\\metrics\\_classification.py:1272: UndefinedMetricWarning: Precision and F-score are ill-defined and being set to 0.0 in labels with no predicted samples. Use `zero_division` parameter to control this behavior.\n",
      "  _warn_prf(average, modifier, msg_start, len(result))\n"
     ]
    }
   ],
   "source": [
    "print(classification_report(y_test, predictions_log))\n",
    "print('\\n')\n",
    "print(confusion_matrix(y_test, predictions_log)) # Confusion Matrix ([[tn, fp], [fn, tp]])"
   ]
  },
  {
   "cell_type": "code",
   "execution_count": null,
   "metadata": {},
   "outputs": [],
   "source": []
  },
  {
   "cell_type": "markdown",
   "metadata": {},
   "source": [
    "## Trainig a Deep Learning Neural Network Model"
   ]
  },
  {
   "cell_type": "code",
   "execution_count": 240,
   "metadata": {},
   "outputs": [],
   "source": [
    "model = Sequential()\n",
    "\n",
    "model.add(Dense(4, activation='relu'))\n",
    "model.add(Dropout(rate=0.2))\n",
    "\n",
    "model.add(Dense(4, activation='relu'))\n",
    "model.add(Dropout(rate=0.2))\n",
    "\n",
    "model.add(Dense(2, activation='relu'))\n",
    "model.add(Dropout(rate=0.2))\n",
    "\n",
    "model.add(Dense(1, activation='sigmoid'))\n",
    "\n",
    "model.compile(loss='binary_crossentropy', optimizer='adam')"
   ]
  },
  {
   "cell_type": "code",
   "execution_count": 241,
   "metadata": {},
   "outputs": [],
   "source": [
    "early_stop = EarlyStopping(monitor='val_loss', mode='min', verbose=1, patience=25)"
   ]
  },
  {
   "cell_type": "code",
   "execution_count": 242,
   "metadata": {
    "scrolled": true
   },
   "outputs": [
    {
     "name": "stdout",
     "output_type": "stream",
     "text": [
      "Train on 22500 samples, validate on 7500 samples\n",
      "Epoch 1/200\n",
      "22500/22500 [==============================] - 3s 125us/sample - loss: 0.5322 - val_loss: 0.4005\n",
      "Epoch 2/200\n",
      "22500/22500 [==============================] - 1s 58us/sample - loss: 0.4319 - val_loss: 0.3936\n",
      "Epoch 3/200\n",
      "22500/22500 [==============================] - 1s 59us/sample - loss: 0.4230 - val_loss: 0.3925\n",
      "Epoch 4/200\n",
      "22500/22500 [==============================] - 1s 61us/sample - loss: 0.4150 - val_loss: 0.3895\n",
      "Epoch 5/200\n",
      "22500/22500 [==============================] - 2s 69us/sample - loss: 0.4097 - val_loss: 0.3879\n",
      "Epoch 6/200\n",
      "22500/22500 [==============================] - 1s 62us/sample - loss: 0.4067 - val_loss: 0.3868\n",
      "Epoch 7/200\n",
      "22500/22500 [==============================] - 1s 59us/sample - loss: 0.4028 - val_loss: 0.3867\n",
      "Epoch 8/200\n",
      "22500/22500 [==============================] - 1s 61us/sample - loss: 0.4028 - val_loss: 0.3862\n",
      "Epoch 9/200\n",
      "22500/22500 [==============================] - 1s 61us/sample - loss: 0.4012 - val_loss: 0.3870\n",
      "Epoch 10/200\n",
      "22500/22500 [==============================] - 1s 59us/sample - loss: 0.3993 - val_loss: 0.3864\n",
      "Epoch 11/200\n",
      "22500/22500 [==============================] - 1s 59us/sample - loss: 0.3980 - val_loss: 0.3862\n",
      "Epoch 12/200\n",
      "22500/22500 [==============================] - 1s 58us/sample - loss: 0.3988 - val_loss: 0.3866\n",
      "Epoch 13/200\n",
      "22500/22500 [==============================] - 1s 59us/sample - loss: 0.3977 - val_loss: 0.3865\n",
      "Epoch 14/200\n",
      "22500/22500 [==============================] - 1s 59us/sample - loss: 0.3979 - val_loss: 0.3864\n",
      "Epoch 15/200\n",
      "22500/22500 [==============================] - 1s 58us/sample - loss: 0.3973 - val_loss: 0.3871\n",
      "Epoch 16/200\n",
      "22500/22500 [==============================] - 1s 63us/sample - loss: 0.3966 - val_loss: 0.3867\n",
      "Epoch 17/200\n",
      "22500/22500 [==============================] - 1s 65us/sample - loss: 0.3966 - val_loss: 0.3864\n",
      "Epoch 18/200\n",
      "22500/22500 [==============================] - 1s 62us/sample - loss: 0.3953 - val_loss: 0.3862\n",
      "Epoch 19/200\n",
      "22500/22500 [==============================] - 1s 59us/sample - loss: 0.3959 - val_loss: 0.3865\n",
      "Epoch 20/200\n",
      "22500/22500 [==============================] - 1s 59us/sample - loss: 0.3962 - val_loss: 0.3867\n",
      "Epoch 21/200\n",
      "22500/22500 [==============================] - 1s 59us/sample - loss: 0.3957 - val_loss: 0.3862\n",
      "Epoch 22/200\n",
      "22500/22500 [==============================] - 1s 59us/sample - loss: 0.3953 - val_loss: 0.3866\n",
      "Epoch 23/200\n",
      "22500/22500 [==============================] - 1s 61us/sample - loss: 0.3953 - val_loss: 0.3865\n",
      "Epoch 24/200\n",
      "22500/22500 [==============================] - 1s 64us/sample - loss: 0.3952 - val_loss: 0.3865\n",
      "Epoch 25/200\n",
      "22500/22500 [==============================] - 2s 85us/sample - loss: 0.3945 - val_loss: 0.3858\n",
      "Epoch 26/200\n",
      "22500/22500 [==============================] - 1s 60us/sample - loss: 0.3948 - val_loss: 0.3860\n",
      "Epoch 27/200\n",
      "22500/22500 [==============================] - 1s 61us/sample - loss: 0.3939 - val_loss: 0.3858\n",
      "Epoch 28/200\n",
      "22500/22500 [==============================] - 2s 68us/sample - loss: 0.3945 - val_loss: 0.3855\n",
      "Epoch 29/200\n",
      "22500/22500 [==============================] - 1s 62us/sample - loss: 0.3953 - val_loss: 0.3858\n",
      "Epoch 30/200\n",
      "22500/22500 [==============================] - 1s 59us/sample - loss: 0.3942 - val_loss: 0.3853\n",
      "Epoch 31/200\n",
      "22500/22500 [==============================] - 1s 59us/sample - loss: 0.3943 - val_loss: 0.3856\n",
      "Epoch 32/200\n",
      "22500/22500 [==============================] - 1s 59us/sample - loss: 0.3946 - val_loss: 0.3855\n",
      "Epoch 33/200\n",
      "22500/22500 [==============================] - 1s 59us/sample - loss: 0.3941 - val_loss: 0.3849\n",
      "Epoch 34/200\n",
      "22500/22500 [==============================] - 1s 59us/sample - loss: 0.3939 - val_loss: 0.3853\n",
      "Epoch 35/200\n",
      "22500/22500 [==============================] - 1s 58us/sample - loss: 0.3942 - val_loss: 0.3855\n",
      "Epoch 36/200\n",
      "22500/22500 [==============================] - 1s 59us/sample - loss: 0.3942 - val_loss: 0.3852\n",
      "Epoch 37/200\n",
      "22500/22500 [==============================] - 1s 59us/sample - loss: 0.3943 - val_loss: 0.3850\n",
      "Epoch 38/200\n",
      "22500/22500 [==============================] - 1s 61us/sample - loss: 0.3938 - val_loss: 0.3853\n",
      "Epoch 39/200\n",
      "22500/22500 [==============================] - 1s 60us/sample - loss: 0.3937 - val_loss: 0.3847\n",
      "Epoch 40/200\n",
      "22500/22500 [==============================] - 1s 65us/sample - loss: 0.3942 - val_loss: 0.3848\n",
      "Epoch 41/200\n",
      "22500/22500 [==============================] - 1s 59us/sample - loss: 0.3941 - val_loss: 0.3852\n",
      "Epoch 42/200\n",
      "22500/22500 [==============================] - 1s 58us/sample - loss: 0.3935 - val_loss: 0.3846\n",
      "Epoch 43/200\n",
      "22500/22500 [==============================] - 1s 59us/sample - loss: 0.3937 - val_loss: 0.3849\n",
      "Epoch 44/200\n",
      "22500/22500 [==============================] - 1s 59us/sample - loss: 0.3940 - val_loss: 0.3848\n",
      "Epoch 45/200\n",
      "22500/22500 [==============================] - 1s 58us/sample - loss: 0.3938 - val_loss: 0.3849\n",
      "Epoch 46/200\n",
      "22500/22500 [==============================] - 1s 59us/sample - loss: 0.3941 - val_loss: 0.3852\n",
      "Epoch 47/200\n",
      "22500/22500 [==============================] - 1s 59us/sample - loss: 0.3934 - val_loss: 0.3847\n",
      "Epoch 48/200\n",
      "22500/22500 [==============================] - 1s 59us/sample - loss: 0.3935 - val_loss: 0.3850\n",
      "Epoch 49/200\n",
      "22500/22500 [==============================] - 1s 59us/sample - loss: 0.3934 - val_loss: 0.3848\n",
      "Epoch 50/200\n",
      "22500/22500 [==============================] - 1s 58us/sample - loss: 0.3943 - val_loss: 0.3851\n",
      "Epoch 51/200\n",
      "22500/22500 [==============================] - 1s 61us/sample - loss: 0.3935 - val_loss: 0.3848\n",
      "Epoch 52/200\n",
      "22500/22500 [==============================] - 1s 63us/sample - loss: 0.3941 - val_loss: 0.3849\n",
      "Epoch 53/200\n",
      "22500/22500 [==============================] - 1s 59us/sample - loss: 0.3934 - val_loss: 0.3850\n",
      "Epoch 54/200\n",
      "22500/22500 [==============================] - 1s 58us/sample - loss: 0.3938 - val_loss: 0.3850\n",
      "Epoch 55/200\n",
      "22500/22500 [==============================] - 1s 60us/sample - loss: 0.3940 - val_loss: 0.3852\n",
      "Epoch 56/200\n",
      "22500/22500 [==============================] - 1s 58us/sample - loss: 0.3933 - val_loss: 0.3844\n",
      "Epoch 57/200\n",
      "22500/22500 [==============================] - 1s 59us/sample - loss: 0.3939 - val_loss: 0.3850\n",
      "Epoch 58/200\n",
      "22500/22500 [==============================] - 1s 59us/sample - loss: 0.3938 - val_loss: 0.3846\n",
      "Epoch 59/200\n",
      "22500/22500 [==============================] - 1s 60us/sample - loss: 0.3936 - val_loss: 0.3845\n",
      "Epoch 60/200\n",
      "22500/22500 [==============================] - 1s 60us/sample - loss: 0.3936 - val_loss: 0.3844\n",
      "Epoch 61/200\n",
      "22500/22500 [==============================] - 1s 58us/sample - loss: 0.3936 - val_loss: 0.3848\n",
      "Epoch 62/200\n",
      "22500/22500 [==============================] - 1s 58us/sample - loss: 0.3936 - val_loss: 0.3848\n",
      "Epoch 63/200\n",
      "22500/22500 [==============================] - 1s 59us/sample - loss: 0.3934 - val_loss: 0.3844\n",
      "Epoch 64/200\n",
      "22500/22500 [==============================] - 1s 60us/sample - loss: 0.3932 - val_loss: 0.3844\n",
      "Epoch 65/200\n",
      "22500/22500 [==============================] - 1s 59us/sample - loss: 0.3942 - val_loss: 0.3845\n",
      "Epoch 66/200\n",
      "22500/22500 [==============================] - 1s 59us/sample - loss: 0.3939 - val_loss: 0.3843\n",
      "Epoch 67/200\n",
      "22500/22500 [==============================] - 1s 58us/sample - loss: 0.3935 - val_loss: 0.3844\n",
      "Epoch 68/200\n",
      "22500/22500 [==============================] - 1s 59us/sample - loss: 0.3940 - val_loss: 0.3846\n",
      "Epoch 69/200\n",
      "22500/22500 [==============================] - 1s 59us/sample - loss: 0.3936 - val_loss: 0.3843\n",
      "Epoch 70/200\n",
      "22500/22500 [==============================] - 1s 59us/sample - loss: 0.3938 - val_loss: 0.3847\n",
      "Epoch 71/200\n",
      "22500/22500 [==============================] - 1s 58us/sample - loss: 0.3938 - val_loss: 0.3848\n",
      "Epoch 72/200\n",
      "22500/22500 [==============================] - 1s 60us/sample - loss: 0.3943 - val_loss: 0.3848\n",
      "Epoch 73/200\n",
      "22500/22500 [==============================] - 1s 58us/sample - loss: 0.3940 - val_loss: 0.3852\n",
      "Epoch 74/200\n",
      "22500/22500 [==============================] - 1s 62us/sample - loss: 0.3934 - val_loss: 0.3846\n",
      "Epoch 75/200\n",
      "22500/22500 [==============================] - 1s 60us/sample - loss: 0.3941 - val_loss: 0.3848\n"
     ]
    },
    {
     "name": "stdout",
     "output_type": "stream",
     "text": [
      "Epoch 76/200\n",
      "22500/22500 [==============================] - 1s 65us/sample - loss: 0.3935 - val_loss: 0.3851\n",
      "Epoch 77/200\n",
      "22500/22500 [==============================] - 1s 60us/sample - loss: 0.3939 - val_loss: 0.3844\n",
      "Epoch 78/200\n",
      "22500/22500 [==============================] - 1s 59us/sample - loss: 0.3936 - val_loss: 0.3842\n",
      "Epoch 79/200\n",
      "22500/22500 [==============================] - 1s 63us/sample - loss: 0.3937 - val_loss: 0.3846\n",
      "Epoch 80/200\n",
      "22500/22500 [==============================] - 1s 62us/sample - loss: 0.3937 - val_loss: 0.3847\n",
      "Epoch 81/200\n",
      "22500/22500 [==============================] - 1s 59us/sample - loss: 0.3933 - val_loss: 0.3844\n",
      "Epoch 82/200\n",
      "22500/22500 [==============================] - 1s 59us/sample - loss: 0.3934 - val_loss: 0.3843\n",
      "Epoch 83/200\n",
      "22500/22500 [==============================] - 1s 59us/sample - loss: 0.3934 - val_loss: 0.3845\n",
      "Epoch 84/200\n",
      "22500/22500 [==============================] - 1s 60us/sample - loss: 0.3937 - val_loss: 0.3850\n",
      "Epoch 85/200\n",
      "22500/22500 [==============================] - 1s 59us/sample - loss: 0.3935 - val_loss: 0.3848\n",
      "Epoch 86/200\n",
      "22500/22500 [==============================] - 1s 59us/sample - loss: 0.3937 - val_loss: 0.3845\n",
      "Epoch 87/200\n",
      "22500/22500 [==============================] - 1s 61us/sample - loss: 0.3934 - val_loss: 0.3845\n",
      "Epoch 88/200\n",
      "22500/22500 [==============================] - 1s 63us/sample - loss: 0.3933 - val_loss: 0.3850\n",
      "Epoch 89/200\n",
      "22500/22500 [==============================] - 1s 60us/sample - loss: 0.3938 - val_loss: 0.3844\n",
      "Epoch 90/200\n",
      "22500/22500 [==============================] - 1s 59us/sample - loss: 0.3938 - val_loss: 0.3852\n",
      "Epoch 91/200\n",
      "22500/22500 [==============================] - 1s 59us/sample - loss: 0.3936 - val_loss: 0.3849\n",
      "Epoch 92/200\n",
      "22500/22500 [==============================] - 1s 61us/sample - loss: 0.3938 - val_loss: 0.3849\n",
      "Epoch 93/200\n",
      "22500/22500 [==============================] - 1s 61us/sample - loss: 0.3939 - val_loss: 0.3847\n",
      "Epoch 94/200\n",
      "22500/22500 [==============================] - 1s 59us/sample - loss: 0.3937 - val_loss: 0.3845\n",
      "Epoch 95/200\n",
      "22500/22500 [==============================] - 1s 59us/sample - loss: 0.3942 - val_loss: 0.3849\n",
      "Epoch 96/200\n",
      "22500/22500 [==============================] - 1s 60us/sample - loss: 0.3938 - val_loss: 0.3845\n",
      "Epoch 97/200\n",
      "22500/22500 [==============================] - 1s 59us/sample - loss: 0.3931 - val_loss: 0.3845\n",
      "Epoch 98/200\n",
      "22500/22500 [==============================] - 1s 59us/sample - loss: 0.3933 - val_loss: 0.3846\n",
      "Epoch 99/200\n",
      "22500/22500 [==============================] - 2s 67us/sample - loss: 0.3938 - val_loss: 0.3846\n",
      "Epoch 100/200\n",
      "22500/22500 [==============================] - 2s 74us/sample - loss: 0.3935 - val_loss: 0.3841\n",
      "Epoch 101/200\n",
      "22500/22500 [==============================] - 1s 58us/sample - loss: 0.3929 - val_loss: 0.3852\n",
      "Epoch 102/200\n",
      "22500/22500 [==============================] - 1s 58us/sample - loss: 0.3936 - val_loss: 0.3849\n",
      "Epoch 103/200\n",
      "22500/22500 [==============================] - 1s 60us/sample - loss: 0.3941 - val_loss: 0.3845\n",
      "Epoch 104/200\n",
      "22500/22500 [==============================] - 1s 59us/sample - loss: 0.3937 - val_loss: 0.3848\n",
      "Epoch 105/200\n",
      "22500/22500 [==============================] - 1s 59us/sample - loss: 0.3934 - val_loss: 0.3844\n",
      "Epoch 106/200\n",
      "22500/22500 [==============================] - 1s 58us/sample - loss: 0.3934 - val_loss: 0.3846\n",
      "Epoch 107/200\n",
      "22500/22500 [==============================] - 1s 58us/sample - loss: 0.3935 - val_loss: 0.3845\n",
      "Epoch 108/200\n",
      "22500/22500 [==============================] - 1s 59us/sample - loss: 0.3935 - val_loss: 0.3846\n",
      "Epoch 109/200\n",
      "22500/22500 [==============================] - 1s 59us/sample - loss: 0.3939 - val_loss: 0.3848\n",
      "Epoch 110/200\n",
      "22500/22500 [==============================] - 1s 58us/sample - loss: 0.3933 - val_loss: 0.3845\n",
      "Epoch 111/200\n",
      "22500/22500 [==============================] - 1s 58us/sample - loss: 0.3938 - val_loss: 0.3844\n",
      "Epoch 112/200\n",
      "22500/22500 [==============================] - 1s 59us/sample - loss: 0.3938 - val_loss: 0.3850\n",
      "Epoch 113/200\n",
      "22500/22500 [==============================] - 1s 61us/sample - loss: 0.3934 - val_loss: 0.3842\n",
      "Epoch 114/200\n",
      "22500/22500 [==============================] - 1s 61us/sample - loss: 0.3938 - val_loss: 0.3848\n",
      "Epoch 115/200\n",
      "22500/22500 [==============================] - 1s 61us/sample - loss: 0.3929 - val_loss: 0.3847\n",
      "Epoch 116/200\n",
      "22500/22500 [==============================] - 1s 57us/sample - loss: 0.3935 - val_loss: 0.3840\n",
      "Epoch 117/200\n",
      "22500/22500 [==============================] - 1s 63us/sample - loss: 0.3938 - val_loss: 0.3842\n",
      "Epoch 118/200\n",
      "22500/22500 [==============================] - 1s 59us/sample - loss: 0.3933 - val_loss: 0.3844\n",
      "Epoch 119/200\n",
      "22500/22500 [==============================] - 1s 60us/sample - loss: 0.3937 - val_loss: 0.3843\n",
      "Epoch 120/200\n",
      "22500/22500 [==============================] - 1s 61us/sample - loss: 0.3944 - val_loss: 0.3851\n",
      "Epoch 121/200\n",
      "22500/22500 [==============================] - 1s 60us/sample - loss: 0.3933 - val_loss: 0.3843\n",
      "Epoch 122/200\n",
      "22500/22500 [==============================] - 1s 61us/sample - loss: 0.3935 - val_loss: 0.3842\n",
      "Epoch 123/200\n",
      "22500/22500 [==============================] - 1s 63us/sample - loss: 0.3938 - val_loss: 0.3848\n",
      "Epoch 124/200\n",
      "22500/22500 [==============================] - 1s 59us/sample - loss: 0.3938 - val_loss: 0.3846\n",
      "Epoch 125/200\n",
      "22500/22500 [==============================] - 1s 59us/sample - loss: 0.3938 - val_loss: 0.3845\n",
      "Epoch 126/200\n",
      "22500/22500 [==============================] - 1s 59us/sample - loss: 0.3938 - val_loss: 0.3849\n",
      "Epoch 127/200\n",
      "22500/22500 [==============================] - 1s 61us/sample - loss: 0.3939 - val_loss: 0.3845\n",
      "Epoch 128/200\n",
      "22500/22500 [==============================] - 1s 58us/sample - loss: 0.3936 - val_loss: 0.3841\n",
      "Epoch 129/200\n",
      "22500/22500 [==============================] - 1s 62us/sample - loss: 0.3933 - val_loss: 0.3845\n",
      "Epoch 130/200\n",
      "22500/22500 [==============================] - 2s 68us/sample - loss: 0.3937 - val_loss: 0.3844\n",
      "Epoch 131/200\n",
      "22500/22500 [==============================] - 2s 67us/sample - loss: 0.3935 - val_loss: 0.3845\n",
      "Epoch 132/200\n",
      "22500/22500 [==============================] - 1s 59us/sample - loss: 0.3940 - val_loss: 0.3844\n",
      "Epoch 133/200\n",
      "22500/22500 [==============================] - 1s 59us/sample - loss: 0.3938 - val_loss: 0.3843\n",
      "Epoch 134/200\n",
      "22500/22500 [==============================] - 1s 61us/sample - loss: 0.3933 - val_loss: 0.3845\n",
      "Epoch 135/200\n",
      "22500/22500 [==============================] - 1s 58us/sample - loss: 0.3937 - val_loss: 0.3842\n",
      "Epoch 136/200\n",
      "22500/22500 [==============================] - 1s 57us/sample - loss: 0.3941 - val_loss: 0.3850\n",
      "Epoch 137/200\n",
      "22500/22500 [==============================] - 1s 54us/sample - loss: 0.3932 - val_loss: 0.3841\n",
      "Epoch 138/200\n",
      "22500/22500 [==============================] - 1s 58us/sample - loss: 0.3936 - val_loss: 0.3841\n",
      "Epoch 139/200\n",
      "22500/22500 [==============================] - 1s 55us/sample - loss: 0.3934 - val_loss: 0.3845\n",
      "Epoch 140/200\n",
      "22500/22500 [==============================] - 1s 61us/sample - loss: 0.3936 - val_loss: 0.3844\n",
      "Epoch 141/200\n",
      "22500/22500 [==============================] - 1s 58us/sample - loss: 0.3934 - val_loss: 0.3847\n",
      "Epoch 00141: early stopping\n"
     ]
    },
    {
     "data": {
      "text/plain": [
       "<tensorflow.python.keras.callbacks.History at 0x2256e481108>"
      ]
     },
     "execution_count": 242,
     "metadata": {},
     "output_type": "execute_result"
    }
   ],
   "source": [
    "model.fit(x=X_train, y=y_train, validation_data=(X_test, y_test),\n",
    "         callbacks=[early_stop], epochs=200, batch_size=64)"
   ]
  },
  {
   "cell_type": "code",
   "execution_count": 243,
   "metadata": {},
   "outputs": [
    {
     "data": {
      "text/plain": [
       "<matplotlib.axes._subplots.AxesSubplot at 0x2256f948888>"
      ]
     },
     "execution_count": 243,
     "metadata": {},
     "output_type": "execute_result"
    },
    {
     "data": {
      "image/png": "[encoded data removed]",
      "text/plain": [
       "<Figure size 432x288 with 1 Axes>"
      ]
     },
     "metadata": {},
     "output_type": "display_data"
    }
   ],
   "source": [
    "pd.DataFrame(model.history.history).plot()"
   ]
  },
  {
   "cell_type": "code",
   "execution_count": 231,
   "metadata": {},
   "outputs": [],
   "source": [
    "predictions = model.predict_classes(X_test)"
   ]
  },
  {
   "cell_type": "code",
   "execution_count": 232,
   "metadata": {},
   "outputs": [
    {
     "name": "stdout",
     "output_type": "stream",
     "text": [
      "              precision    recall  f1-score   support\n",
      "\n",
      "           0       0.87      1.00      0.93      5204\n",
      "           1       0.00      0.00      0.00       796\n",
      "\n",
      "    accuracy                           0.87      6000\n",
      "   macro avg       0.43      0.50      0.46      6000\n",
      "weighted avg       0.75      0.87      0.81      6000\n",
      "\n",
      "\n",
      "\n",
      "[[5204    0]\n",
      " [ 796    0]]\n"
     ]
    },
    {
     "name": "stderr",
     "output_type": "stream",
     "text": [
      "C:\\Users\\uranu\\Anaconda3\\envs\\tf_env_gpu\\lib\\site-packages\\sklearn\\metrics\\_classification.py:1272: UndefinedMetricWarning: Precision and F-score are ill-defined and being set to 0.0 in labels with no predicted samples. Use `zero_division` parameter to control this behavior.\n",
      "  _warn_prf(average, modifier, msg_start, len(result))\n"
     ]
    }
   ],
   "source": [
    "print(classification_report(y_test, predictions))\n",
    "print('\\n')\n",
    "print(confusion_matrix(y_test, predictions)) # Confusion Matrix ([[tn, fp], [fn, tp]])"
   ]
  },
  {
   "cell_type": "code",
   "execution_count": null,
   "metadata": {},
   "outputs": [],
   "source": []
  }
 ],
 "metadata": {
  "kernelspec": {
   "display_name": "Python 3",
   "language": "python",
   "name": "python3"
  },
  "language_info": {
   "codemirror_mode": {
    "name": "ipython",
    "version": 3
   },
   "file_extension": ".py",
   "mimetype": "text/x-python",
   "name": "python",
   "nbconvert_exporter": "python",
   "pygments_lexer": "ipython3",
   "version": "3.7.6"
  }
 },
 "nbformat": 4,
 "nbformat_minor": 4
}
