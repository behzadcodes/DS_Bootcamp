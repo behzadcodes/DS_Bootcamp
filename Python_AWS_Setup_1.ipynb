{
 "cells": [
  {
   "cell_type": "code",
   "execution_count": null,
   "metadata": {},
   "outputs": [],
   "source": [
    "## https://medium.com/@josemarcialportilla/getting-spark-python-and-jupyter-notebook-running-on-amazon-ec2-dec599e1c297\n",
    "\n",
    "# Installing Anaconda\n",
    "~ wget http://repo.continuum.io/archive/Anaconda3-4.1.1-Linux-x86_64.sh # Downloads this Anaconda version\n",
    "~ bash Anaconda3-4.1.1-Linux-x86_64.sh # Install the file\n",
    "# Then press ENTER all the way through the documentation and type 'yes' at the end and 'yes' again\n",
    "~ source .bashrc # To enable the Anaconda version of python that we just installed\n",
    "~ which python # This will return \" /home/ubuntu/anaconda3/bin/python \" which confirms that it's uing the correct version\n",
    "~ jupyter notebook --generate-config # Writes a configuration file for Jupyter Notebook\n",
    "~ sudo openssl req -x509 -nodes -days 365 -newkey rsa:1024 -keyout mycert.pem -out mycert.pem # Create Certifications\n",
    "\n",
    "~ cd ~/.jupyter/\n",
    "~ vi jupyter_notebook_config.py \n",
    "# Then press \"i\" to be able to insert text into the file and copy the following (without the commanded lines) :\n",
    "\n",
    "c = get_config()\n",
    "# Notebook config this is where you saved your pem cert\n",
    "c.NotebookApp.certfile = u'/home/ubuntu/certs/mycert.pem' \n",
    "# Run on all IP addresses of your instance\n",
    "c.NotebookApp.ip = '*'\n",
    "# Don't open browser by default\n",
    "c.NotebookApp.open_browser = False  \n",
    "# Fix port to 8888\n",
    "c.NotebookApp.port = 8888\n",
    "\n",
    "# Then press Esc key and type in :wq! to save and quit from the file\n",
    "\n",
    "# Now type jupyter notebook to start it\n",
    "~ jupyter notebook\n",
    "# Then go to browser and type the following, the section in the middle is Public DNS from the AWS account\n",
    "https://ec2-18-188-47-103.us-east-2.compute.amazonaws.com:8888/\n",
    "# This will launch the Jupyter environment - You can kill it by ctrl+c\n",
    "\n",
    "########################\n",
    "### Installing Spark ###\n",
    "# First install JAVA, then Scall, then Spark\n",
    "~ sudo apt-get update\n",
    "~ sudo apt-get install default-jre # installing Java\n",
    "~ java -version # shows version of Java\n",
    "~ sudo apt-get install scala # installing Scala\n",
    "~ scala -version # check version\n",
    "        \n",
    "# We need to install the python library py4j, in order to this we need to make sure that \n",
    "# pip install is connected to our Anaconda installation of Python instead of Ubuntu’s default\n",
    "~ export PATH=$PATH:$HOME/anaconda3/bin\n",
    "~ conda install pip\n",
    "~ which pip # This should show Anaconda directory: /home/ubuntu/anaconda3/bin/pip\n",
    "~ pip install --upgrade pip # Upgrade pip\n",
    "\n",
    "~ pip install py4j\n",
    "\n",
    "~ wget http://archive.apache.org/dist/spark/spark-2.0.0/spark-2.0.0-bin-hadoop2.7.tgz # download Spark file\n",
    "~ sudo tar -zxvf spark-2.0.0-bin-hadoop2.7.tgz # unzipping the downloaded file and installing Spark and Hadoop\n",
    "\n",
    "# Finally we need to set our Paths for Spark so Python can find it\n",
    "~ export SPARK_HOME='/home/ubuntu/spark-2.0.0-bin-hadoop2.7'\n",
    "~ export PATH=$SPARK_HOME:$PATH\n",
    "~ export PYTHONPATH=$SPARK_HOME/python:$PYTHONPATH\n",
    "\n",
    "\n",
    "# If pyspark doesn't work, remove the java version that is installed and install Java 8 instead\n",
    "# https://www.udemy.com/course/python-for-data-science-and-machine-learning-bootcamp/learn/lecture/5774346#questions/8932234\n",
    "# https://stackoverflow.com/questions/50064646/py4j-protocol-py4jjavaerror-occurred-while-calling-zorg-apache-spark-api-python\n",
    "~ sudo apt-get purge openjdk-\\* icedtea-\\* icedtea6-\\*\n",
    "~ sudo apt autoremove\n",
    "~ sudo apt install openjdk-8-jre-headless\n",
    "# After this install Scala, py4j, spark again\n",
    "\n",
    "\n",
    "\n",
    "\n"
   ]
  },
  {
   "cell_type": "code",
   "execution_count": null,
   "metadata": {},
   "outputs": [],
   "source": []
  },
  {
   "cell_type": "code",
   "execution_count": null,
   "metadata": {},
   "outputs": [],
   "source": []
  },
  {
   "cell_type": "code",
   "execution_count": null,
   "metadata": {},
   "outputs": [],
   "source": []
  },
  {
   "cell_type": "code",
   "execution_count": null,
   "metadata": {},
   "outputs": [],
   "source": []
  }
 ],
 "metadata": {
  "kernelspec": {
   "display_name": "Python 3",
   "language": "python",
   "name": "python3"
  },
  "language_info": {
   "codemirror_mode": {
    "name": "ipython",
    "version": 3
   },
   "file_extension": ".py",
   "mimetype": "text/x-python",
   "name": "python",
   "nbconvert_exporter": "python",
   "pygments_lexer": "ipython3",
   "version": "3.7.3"
  },
  "varInspector": {
   "cols": {
    "lenName": 16,
    "lenType": 16,
    "lenVar": 40
   },
   "kernels_config": {
    "python": {
     "delete_cmd_postfix": "",
     "delete_cmd_prefix": "del ",
     "library": "var_list.py",
     "varRefreshCmd": "print(var_dic_list())"
    },
    "r": {
     "delete_cmd_postfix": ") ",
     "delete_cmd_prefix": "rm(",
     "library": "var_list.r",
     "varRefreshCmd": "cat(var_dic_list()) "
    }
   },
   "types_to_exclude": [
    "module",
    "function",
    "builtin_function_or_method",
    "instance",
    "_Feature"
   ],
   "window_display": false
  }
 },
 "nbformat": 4,
 "nbformat_minor": 2
}
